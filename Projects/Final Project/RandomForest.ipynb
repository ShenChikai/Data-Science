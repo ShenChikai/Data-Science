{
 "cells": [
  {
   "cell_type": "code",
   "execution_count": 25,
   "id": "c98947ff-cf26-4526-8a7a-5dfc6c258a25",
   "metadata": {},
   "outputs": [],
   "source": [
    "# Import lib\n",
    "import pandas as pd\n",
    "import numpy as np\n",
    "from sklearn.ensemble import RandomForestRegressor\n",
    "import matplotlib.pyplot as plt"
   ]
  },
  {
   "cell_type": "code",
   "execution_count": 3,
   "id": "1fdd3936-5d35-4bd6-800b-68a4f42f70d4",
   "metadata": {},
   "outputs": [
    {
     "name": "stdout",
     "output_type": "stream",
     "text": [
      "X_train: (16345, 9)\n",
      "y_train: (16345,)\n",
      "X_test: (4086, 9)\n",
      "y_test: (4086,)\n"
     ]
    }
   ],
   "source": [
    "# Read in datasets\n",
    "# The X_train, X_test are normalized using StandardSclar in Feature Engineering\n",
    "X_train = pd.read_csv('datasets/X_train.csv').to_numpy()\n",
    "X_test = pd.read_csv('datasets/X_test.csv').to_numpy()\n",
    "y_train = pd.read_csv('datasets/y_train.csv').to_numpy().ravel()\n",
    "y_test = pd.read_csv('datasets/y_test.csv').to_numpy().ravel()\n",
    "print(f'X_train: {X_train.shape}')\n",
    "print(f'y_train: {y_train.shape}')\n",
    "print(f'X_test: {X_test.shape}')\n",
    "print(f'y_test: {y_test.shape}')"
   ]
  },
  {
   "cell_type": "code",
   "execution_count": 4,
   "id": "72b4bd21-3025-4647-b167-fceef1d88762",
   "metadata": {},
   "outputs": [],
   "source": [
    "# Number of trees in the Random Forest\n",
    "n_estimators = [int(x) for x in np.arange(70, 90, 1)]\n",
    "# Number of features to consider at every split / tree branch\n",
    "max_features = ['sqrt', 'log2']\n",
    "# Maximum depth of the trees (tree height)\n",
    "max_depth = [int(x) for x in np.arange(15, 25, 2)]\n",
    "# Minimum number of samples required t o split a node \n",
    "min_samples_split = [int(x) for x in np.arange(2, 6, 1)]\n",
    "# Minimum number of samples required at each leaf node \n",
    "min_samples_leaf = [int(x) for x in np.arange(2, 6, 1)]\n",
    "# Method of selecting samples for training each tree\n",
    "# bootstrap = [True, False]"
   ]
  },
  {
   "cell_type": "code",
   "execution_count": 5,
   "id": "72327088-e963-4fc9-b68d-5f72af3506e4",
   "metadata": {},
   "outputs": [
    {
     "name": "stdout",
     "output_type": "stream",
     "text": [
      "{'n_estimators': [70, 71, 72, 73, 74, 75, 76, 77, 78, 79, 80, 81, 82, 83, 84, 85, 86, 87, 88, 89], 'max_features': ['sqrt', 'log2'], 'max_depth': [15, 17, 19, 21, 23], 'min_samples_split': [2, 3, 4, 5], 'min_samples_leaf': [2, 3, 4, 5]}\n"
     ]
    }
   ],
   "source": [
    "# Create parameter dictionary\n",
    "params = {'n_estimators': n_estimators,\n",
    "             'max_features': max_features,\n",
    "             'max_depth': max_depth,\n",
    "             'min_samples_split': min_samples_split,\n",
    "             'min_samples_leaf': min_samples_leaf,\n",
    "             #'bootstrap': bootstrap\n",
    "            }\n",
    "print(params)"
   ]
  },
  {
   "cell_type": "code",
   "execution_count": 6,
   "id": "f6b97b9e-9962-4ef7-8bab-e1e416b0b316",
   "metadata": {},
   "outputs": [],
   "source": [
    "# Create Random Forest Model\n",
    "rf_model = RandomForestRegressor()\n",
    "# Create Grid Search Cross Validation\n",
    "# GridSearchCV is used to loop through predefined hyperparameters \n",
    "#     and fit the estimator (model) on the training set\n",
    "from sklearn.model_selection import GridSearchCV\n",
    "rf_grid = GridSearchCV(estimator = rf_model, param_grid = params, \n",
    "                       cv = 3, verbose = 2, n_jobs = 4)"
   ]
  },
  {
   "cell_type": "code",
   "execution_count": 7,
   "id": "6ad00b12-4167-4f42-ad7a-1d726df00ec0",
   "metadata": {},
   "outputs": [
    {
     "name": "stdout",
     "output_type": "stream",
     "text": [
      "Fitting 3 folds for each of 3200 candidates, totalling 9600 fits\n"
     ]
    },
    {
     "data": {
      "text/plain": [
       "GridSearchCV(cv=3, estimator=RandomForestRegressor(), n_jobs=4,\n",
       "             param_grid={'max_depth': [15, 17, 19, 21, 23],\n",
       "                         'max_features': ['sqrt', 'log2'],\n",
       "                         'min_samples_leaf': [2, 3, 4, 5],\n",
       "                         'min_samples_split': [2, 3, 4, 5],\n",
       "                         'n_estimators': [70, 71, 72, 73, 74, 75, 76, 77, 78,\n",
       "                                          79, 80, 81, 82, 83, 84, 85, 86, 87,\n",
       "                                          88, 89]},\n",
       "             verbose=2)"
      ]
     },
     "execution_count": 7,
     "metadata": {},
     "output_type": "execute_result"
    }
   ],
   "source": [
    "# Fit and find the best hyperparameters for RF\n",
    "rf_grid.fit(X_train, y_train)"
   ]
  },
  {
   "cell_type": "code",
   "execution_count": 8,
   "id": "32ab94a4-1218-435d-9f53-1e914a8cb65e",
   "metadata": {},
   "outputs": [
    {
     "data": {
      "text/plain": [
       "{'max_depth': 23,\n",
       " 'max_features': 'sqrt',\n",
       " 'min_samples_leaf': 2,\n",
       " 'min_samples_split': 5,\n",
       " 'n_estimators': 83}"
      ]
     },
     "execution_count": 8,
     "metadata": {},
     "output_type": "execute_result"
    }
   ],
   "source": [
    "# Check the best hyperparameters found\n",
    "best_params = rf_grid.best_params_\n",
    "best_params"
   ]
  },
  {
   "cell_type": "code",
   "execution_count": 9,
   "id": "aeea70a5-e398-45aa-b4e2-3e47c3339553",
   "metadata": {},
   "outputs": [
    {
     "name": "stdout",
     "output_type": "stream",
     "text": [
      "R^2 Score on Test Set: 0.8203907016767829\n"
     ]
    }
   ],
   "source": [
    "# Check Score\n",
    "print(\"R^2 Score on Test Set:\", rf_grid.score(X_test, y_test))"
   ]
  },
  {
   "cell_type": "markdown",
   "id": "b135327b",
   "metadata": {},
   "source": [
    "Metric: Score\n",
    "\n",
    "Return the coefficient of determination of the prediction.\n",
    "\n",
    "The coefficient of determination $R^2$ is defined as $(1 - \\frac{u}{v})$, where $u$ is the residual sum of squares $\\sum(y_{true} - y_{pred})^2$ and $v$ is the total sum of squares $\\sum mean(y_{true}) - mean(y_{true})^2$. The best possible score is 1.0 and it can be negative (because the model can be arbitrarily worse). A constant model that always predicts the expected value of y, disregarding the input features, would get a $R^2$ score of 0.0."
   ]
  },
  {
   "cell_type": "code",
   "execution_count": 11,
   "id": "fa08cc39-3aeb-4190-a31a-4f30cdfccdd9",
   "metadata": {},
   "outputs": [
    {
     "data": {
      "text/plain": [
       "<AxesSubplot:>"
      ]
     },
     "execution_count": 11,
     "metadata": {},
     "output_type": "execute_result"
    },
    {
     "data": {
      "image/png": "[encoded data removed]",
      "text/plain": [
       "<Figure size 432x288 with 1 Axes>"
      ]
     },
     "metadata": {
      "needs_background": "light"
     },
     "output_type": "display_data"
    }
   ],
   "source": [
    "feat_importances = pd.Series(rf_grid.best_estimator_.feature_importances_, index=[\"longitude\",\n",
    "                                                                                  \"latitude\",\n",
    "                                                                                  \"housing_median_age\",\n",
    "                                                                                  \"total_rooms\",\n",
    "                                                                                  \"total_bedrooms\",\n",
    "                                                                                  \"population\",\n",
    "                                                                                  \"households\",\n",
    "                                                                                  \"median_income\",\n",
    "                                                                                  \"ocean_proximity\"])\n",
    "feat_importances.nlargest(9).plot(kind='barh')"
   ]
  },
  {
   "cell_type": "code",
   "execution_count": 33,
   "id": "1ae60461-6b74-4451-a979-2367290f1ae8",
   "metadata": {},
   "outputs": [
    {
     "name": "stdout",
     "output_type": "stream",
     "text": [
      "[185924.14658635 108406.28916933  82071.58777969 ... 122252.88343852\n",
      " 157051.90456948 431283.87238   ]\n"
     ]
    },
    {
     "data": {
      "text/html": [
       "<div>\n",
       "<style scoped>\n",
       "    .dataframe tbody tr th:only-of-type {\n",
       "        vertical-align: middle;\n",
       "    }\n",
       "\n",
       "    .dataframe tbody tr th {\n",
       "        vertical-align: top;\n",
       "    }\n",
       "\n",
       "    .dataframe thead th {\n",
       "        text-align: right;\n",
       "    }\n",
       "</style>\n",
       "<table border=\"1\" class=\"dataframe\">\n",
       "  <thead>\n",
       "    <tr style=\"text-align: right;\">\n",
       "      <th></th>\n",
       "      <th>index</th>\n",
       "      <th>Actual</th>\n",
       "      <th>Prediction</th>\n",
       "    </tr>\n",
       "  </thead>\n",
       "  <tbody>\n",
       "    <tr>\n",
       "      <th>0</th>\n",
       "      <td>0</td>\n",
       "      <td>185924.146586</td>\n",
       "      <td>159200.0</td>\n",
       "    </tr>\n",
       "    <tr>\n",
       "      <th>1</th>\n",
       "      <td>1</td>\n",
       "      <td>108406.289169</td>\n",
       "      <td>95000.0</td>\n",
       "    </tr>\n",
       "    <tr>\n",
       "      <th>2</th>\n",
       "      <td>2</td>\n",
       "      <td>82071.587780</td>\n",
       "      <td>83200.0</td>\n",
       "    </tr>\n",
       "    <tr>\n",
       "      <th>3</th>\n",
       "      <td>3</td>\n",
       "      <td>296839.158403</td>\n",
       "      <td>300700.0</td>\n",
       "    </tr>\n",
       "    <tr>\n",
       "      <th>4</th>\n",
       "      <td>4</td>\n",
       "      <td>160292.891566</td>\n",
       "      <td>167800.0</td>\n",
       "    </tr>\n",
       "    <tr>\n",
       "      <th>...</th>\n",
       "      <td>...</td>\n",
       "      <td>...</td>\n",
       "      <td>...</td>\n",
       "    </tr>\n",
       "    <tr>\n",
       "      <th>4081</th>\n",
       "      <td>4081</td>\n",
       "      <td>94984.102123</td>\n",
       "      <td>83400.0</td>\n",
       "    </tr>\n",
       "    <tr>\n",
       "      <th>4082</th>\n",
       "      <td>4082</td>\n",
       "      <td>162988.982597</td>\n",
       "      <td>133500.0</td>\n",
       "    </tr>\n",
       "    <tr>\n",
       "      <th>4083</th>\n",
       "      <td>4083</td>\n",
       "      <td>122252.883439</td>\n",
       "      <td>80700.0</td>\n",
       "    </tr>\n",
       "    <tr>\n",
       "      <th>4084</th>\n",
       "      <td>4084</td>\n",
       "      <td>157051.904569</td>\n",
       "      <td>105600.0</td>\n",
       "    </tr>\n",
       "    <tr>\n",
       "      <th>4085</th>\n",
       "      <td>4085</td>\n",
       "      <td>431283.872380</td>\n",
       "      <td>372800.0</td>\n",
       "    </tr>\n",
       "  </tbody>\n",
       "</table>\n",
       "<p>4086 rows × 3 columns</p>\n",
       "</div>"
      ],
      "text/plain": [
       "      index         Actual  Prediction\n",
       "0         0  185924.146586    159200.0\n",
       "1         1  108406.289169     95000.0\n",
       "2         2   82071.587780     83200.0\n",
       "3         3  296839.158403    300700.0\n",
       "4         4  160292.891566    167800.0\n",
       "...     ...            ...         ...\n",
       "4081   4081   94984.102123     83400.0\n",
       "4082   4082  162988.982597    133500.0\n",
       "4083   4083  122252.883439     80700.0\n",
       "4084   4084  157051.904569    105600.0\n",
       "4085   4085  431283.872380    372800.0\n",
       "\n",
       "[4086 rows x 3 columns]"
      ]
     },
     "execution_count": 33,
     "metadata": {},
     "output_type": "execute_result"
    }
   ],
   "source": [
    "ypred = rf_grid.predict(X_test)\n",
    "print(ypred)\n",
    "result = {'Actual':ypred,\n",
    "        'Prediction':y_test}\n",
    " \n",
    "# Create DataFrame\n",
    "result_df = pd.DataFrame(result)\n",
    "result_df.reset_index(inplace=True)\n",
    "result_df"
   ]
  },
  {
   "cell_type": "code",
   "execution_count": 52,
   "id": "310aaa5b-ad68-4d05-ad31-ee86576a77bd",
   "metadata": {},
   "outputs": [
    {
     "data": {
      "text/plain": [
       "[]"
      ]
     },
     "execution_count": 52,
     "metadata": {},
     "output_type": "execute_result"
    },
    {
     "data": {
      "image/png": "[encoded data removed]",
      "text/plain": [
       "<Figure size 432x288 with 1 Axes>"
      ]
     },
     "metadata": {
      "needs_background": "light"
     },
     "output_type": "display_data"
    }
   ],
   "source": [
    "#plt.scatter(result_df['index'], result_df['Actual'], c =\"blue\", s = 1)\n",
    "plt.scatter(result_df['Prediction'], result_df['Actual'], c =\"b\", s = 5, alpha= 0.5)\n",
    "plt.plot()"
   ]
  },
  {
   "cell_type": "code",
   "execution_count": null,
   "id": "c2918ac9-8ca0-419e-b001-aa9d993d0450",
   "metadata": {},
   "outputs": [],
   "source": [
    "# Create Random Forest Regressor with the best parameters found with GridSerachCV\n",
    "best_rfr = RandomForestRegressor(bootstrap=best_params[\"bootstrap\"],\n",
    "                                 max_features=best_params[\"max_features\"], \n",
    "                                 max_depth=best_params[\"max_depth\"], \n",
    "                                 min_samples_leaf=best_params[\"min_samples_leaf\"],\n",
    "                                 min_samples_split=best_params[\"min_samples_split\"],\n",
    "                                 n_estimators=best_params[\"n_estimators\"], \n",
    "                                 random_state=False, \n",
    "                                 verbose=False)\n",
    "best_rfr.fit(X_train, y_train)"
   ]
  },
  {
   "cell_type": "code",
   "execution_count": null,
   "id": "ba51fbda-0123-4aec-b50f-d1b47efd7c9f",
   "metadata": {},
   "outputs": [],
   "source": [
    "# Verify Score on the best Random Forest Regressor with the best parameters found\n",
    "print(\"Score with R-squared on Train set:\", best_rfr.score(X_train, y_train)) \n",
    "print(\"Score with R-squared on Test set:\", best_rfr.score(X_test, y_test)) "
   ]
  }
 ],
 "metadata": {
  "kernelspec": {
   "display_name": "Python 3 (ipykernel)",
   "language": "python",
   "name": "python3"
  },
  "language_info": {
   "codemirror_mode": {
    "name": "ipython",
    "version": 3
   },
   "file_extension": ".py",
   "mimetype": "text/x-python",
   "name": "python",
   "nbconvert_exporter": "python",
   "pygments_lexer": "ipython3",
   "version": "3.9.12"
  }
 },
 "nbformat": 4,
 "nbformat_minor": 5
}
