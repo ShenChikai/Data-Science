{
 "cells": [
  {
   "cell_type": "code",
   "execution_count": 1,
   "id": "c98947ff-cf26-4526-8a7a-5dfc6c258a25",
   "metadata": {},
   "outputs": [],
   "source": [
    "# Import lib\n",
    "import pandas as pd\n",
    "import numpy as np\n",
    "from sklearn.ensemble import RandomForestRegressor"
   ]
  },
  {
   "cell_type": "code",
   "execution_count": 2,
   "id": "1fdd3936-5d35-4bd6-800b-68a4f42f70d4",
   "metadata": {},
   "outputs": [
    {
     "name": "stdout",
     "output_type": "stream",
     "text": [
      "X_train: (16345, 9)\n",
      "y_train: (16345,)\n",
      "X_test: (4086, 9)\n",
      "y_test: (4086,)\n"
     ]
    }
   ],
   "source": [
    "# Read in datasets\n",
    "# The X_train, X_test are normalized using StandardSclar in Feature Engineering\n",
    "X_train = pd.read_csv('datasets/X_train.csv').to_numpy()\n",
    "X_test = pd.read_csv('datasets/X_test.csv').to_numpy()\n",
    "y_train = pd.read_csv('datasets/y_train.csv').to_numpy().ravel()\n",
    "y_test = pd.read_csv('datasets/y_test.csv').to_numpy().ravel()\n",
    "print(f'X_train: {X_train.shape}')\n",
    "print(f'y_train: {y_train.shape}')\n",
    "print(f'X_test: {X_test.shape}')\n",
    "print(f'y_test: {y_test.shape}')"
   ]
  },
  {
   "cell_type": "code",
   "execution_count": 55,
   "id": "72b4bd21-3025-4647-b167-fceef1d88762",
   "metadata": {},
   "outputs": [],
   "source": [
    "# Number of trees in the Random Forest, 10 int randomly generated from 10-80\n",
    "n_estimators = [int(x) for x in np.arange(70, 90, 1)]\n",
    "# Number of features to consider at every split / tree branch\n",
    "max_features = ['sqrt', 'log2']\n",
    "# Maximum depth of the trees (tree height) 2-4\n",
    "max_depth = [int(x) for x in np.arange(15, 25, 2)]\n",
    "# Minimum number of samples required t o split a node 2-5\n",
    "min_samples_split = [int(x) for x in np.arange(2, 6, 1)]\n",
    "# Minimum number of samples required at each leaf node 1-2\n",
    "min_samples_leaf = [int(x) for x in np.arange(2, 6, 1)]\n",
    "# Method of selecting samples for training each tree\n",
    "# bootstrap = [True, False]"
   ]
  },
  {
   "cell_type": "code",
   "execution_count": 56,
   "id": "72327088-e963-4fc9-b68d-5f72af3506e4",
   "metadata": {},
   "outputs": [
    {
     "name": "stdout",
     "output_type": "stream",
     "text": [
      "{'n_estimators': [70, 71, 72, 73, 74, 75, 76, 77, 78, 79, 80, 81, 82, 83, 84, 85, 86, 87, 88, 89], 'max_features': ['sqrt', 'log2'], 'max_depth': [18, 20, 22, 24], 'min_samples_split': [2, 3, 4, 5], 'min_samples_leaf': [3, 4, 5, 6]}\n"
     ]
    }
   ],
   "source": [
    "# Create parameter dictionary\n",
    "params = {'n_estimators': n_estimators,\n",
    "             'max_features': max_features,\n",
    "             'max_depth': max_depth,\n",
    "             'min_samples_split': min_samples_split,\n",
    "             'min_samples_leaf': min_samples_leaf,\n",
    "             #'bootstrap': bootstrap\n",
    "            }\n",
    "print(params)"
   ]
  },
  {
   "cell_type": "code",
   "execution_count": 57,
   "id": "f6b97b9e-9962-4ef7-8bab-e1e416b0b316",
   "metadata": {},
   "outputs": [],
   "source": [
    "# Create Random Forest Model\n",
    "rf_model = RandomForestRegressor()\n",
    "# Create Grid Search Cross Validation\n",
    "# GridSearchCV is used to loop through predefined hyperparameters \n",
    "#     and fit the estimator (model) on the training set\n",
    "from sklearn.model_selection import GridSearchCV\n",
    "rf_grid = GridSearchCV(estimator = rf_model, param_grid = params, cv = 3, verbose = 2, n_jobs = 4)"
   ]
  },
  {
   "cell_type": "code",
   "execution_count": 58,
   "id": "6ad00b12-4167-4f42-ad7a-1d726df00ec0",
   "metadata": {},
   "outputs": [
    {
     "name": "stdout",
     "output_type": "stream",
     "text": [
      "Fitting 3 folds for each of 2560 candidates, totalling 7680 fits\n"
     ]
    },
    {
     "data": {
      "text/plain": [
       "GridSearchCV(cv=3, estimator=RandomForestRegressor(), n_jobs=4,\n",
       "             param_grid={'max_depth': [18, 20, 22, 24],\n",
       "                         'max_features': ['sqrt', 'log2'],\n",
       "                         'min_samples_leaf': [3, 4, 5, 6],\n",
       "                         'min_samples_split': [2, 3, 4, 5],\n",
       "                         'n_estimators': [70, 71, 72, 73, 74, 75, 76, 77, 78,\n",
       "                                          79, 80, 81, 82, 83, 84, 85, 86, 87,\n",
       "                                          88, 89]},\n",
       "             verbose=2)"
      ]
     },
     "execution_count": 58,
     "metadata": {},
     "output_type": "execute_result"
    }
   ],
   "source": [
    "# Fit and find the best hyperparameters for RF\n",
    "rf_grid.fit(X_train, y_train)"
   ]
  },
  {
   "cell_type": "code",
   "execution_count": 60,
   "id": "32ab94a4-1218-435d-9f53-1e914a8cb65e",
   "metadata": {},
   "outputs": [
    {
     "data": {
      "text/plain": [
       "{'max_depth': 20,\n",
       " 'max_features': 'sqrt',\n",
       " 'min_samples_leaf': 3,\n",
       " 'min_samples_split': 2,\n",
       " 'n_estimators': 89}"
      ]
     },
     "execution_count": 60,
     "metadata": {},
     "output_type": "execute_result"
    }
   ],
   "source": [
    "# Check the best hyperparameters found\n",
    "best_params = rf_grid.best_params_\n",
    "best_params"
   ]
  },
  {
   "cell_type": "code",
   "execution_count": 61,
   "id": "aeea70a5-e398-45aa-b4e2-3e47c3339553",
   "metadata": {},
   "outputs": [
    {
     "name": "stdout",
     "output_type": "stream",
     "text": [
      "Score on Training Set: 0.927826415142606\n",
      "Score on Test Set: 0.8196414149405283\n"
     ]
    }
   ],
   "source": [
    "# Check Score\n",
    "print(\"Score on Training Set:\", rf_grid.score(X_train, y_train))\n",
    "print(\"Score on Test Set:\", rf_grid.score(X_test, y_test))"
   ]
  },
  {
   "cell_type": "markdown",
   "id": "b135327b",
   "metadata": {},
   "source": [
    "Metric: Score\n",
    "\n",
    "Return the coefficient of determination of the prediction.\n",
    "\n",
    "The coefficient of determination $R^2$ is defined as $(1 - \\frac{u}{v})$, where $u$ is the residual sum of squares ((y_true - y_pred)** 2).sum() and $v$ is the total sum of squares ((y_true - y_true.mean()) ** 2).sum(). The best possible score is 1.0 and it can be negative (because the model can be arbitrarily worse). A constant model that always predicts the expected value of y, disregarding the input features, would get a $R^2$ score of 0.0."
   ]
  },
  {
   "cell_type": "code",
   "execution_count": 26,
   "id": "fa08cc39-3aeb-4190-a31a-4f30cdfccdd9",
   "metadata": {},
   "outputs": [
    {
     "data": {
      "text/plain": [
       "<AxesSubplot:>"
      ]
     },
     "execution_count": 26,
     "metadata": {},
     "output_type": "execute_result"
    },
    {
     "data": {
      "image/png": "[encoded data removed]",
      "text/plain": [
       "<Figure size 432x288 with 1 Axes>"
      ]
     },
     "metadata": {
      "needs_background": "light"
     },
     "output_type": "display_data"
    }
   ],
   "source": [
    "feat_importances = pd.Series(rf_grid.best_estimator_.feature_importances_, index=[\"longitude\",\n",
    "                                                                                  \"latitude\",\n",
    "                                                                                  \"housing_median_age\",\n",
    "                                                                                  \"total_rooms\",\n",
    "                                                                                  \"total_bedrooms\",\n",
    "                                                                                  \"population\",\n",
    "                                                                                  \"households\",\n",
    "                                                                                  \"median_income\",\n",
    "                                                                                  \"ocean_proximity\"])\n",
    "feat_importances.nlargest(4).plot(kind='barh')"
   ]
  },
  {
   "cell_type": "code",
   "execution_count": null,
   "id": "c2918ac9-8ca0-419e-b001-aa9d993d0450",
   "metadata": {},
   "outputs": [],
   "source": [
    "# Create Random Forest Regressor with the best parameters found with GridSerachCV\n",
    "best_rfr = RandomForestRegressor(bootstrap=best_params[\"bootstrap\"],\n",
    "                                 max_features=best_params[\"max_features\"], \n",
    "                                 max_depth=best_params[\"max_depth\"], \n",
    "                                 min_samples_leaf=best_params[\"min_samples_leaf\"],\n",
    "                                 min_samples_split=best_params[\"min_samples_split\"],\n",
    "                                 n_estimators=best_params[\"n_estimators\"], \n",
    "                                 random_state=False, \n",
    "                                 verbose=False)\n",
    "best_rfr.fit(X_train, y_train)"
   ]
  },
  {
   "cell_type": "code",
   "execution_count": null,
   "id": "ba51fbda-0123-4aec-b50f-d1b47efd7c9f",
   "metadata": {},
   "outputs": [],
   "source": [
    "# Verify Score on the best Random Forest Regressor with the best parameters found\n",
    "print(\"Score with R-squared on Train set:\", best_rfr.score(X_train, y_train)) \n",
    "print(\"Score with R-squared on Test set:\", best_rfr.score(X_test, y_test)) "
   ]
  },
  {
   "cell_type": "code",
   "execution_count": null,
   "id": "1ae60461-6b74-4451-a979-2367290f1ae8",
   "metadata": {},
   "outputs": [],
   "source": [
    "ypred = best_rfr.predict(X_test)\n",
    "print(ypred)\n",
    "result = {'Actual':pred,\n",
    "        'Prediction':y_test}\n",
    " \n",
    "# Create DataFrame\n",
    "result_df = pd.DataFrame(result)\n",
    "result_df"
   ]
  }
 ],
 "metadata": {
  "kernelspec": {
   "display_name": "Python 3 (ipykernel)",
   "language": "python",
   "name": "python3"
  },
  "language_info": {
   "codemirror_mode": {
    "name": "ipython",
    "version": 3
   },
   "file_extension": ".py",
   "mimetype": "text/x-python",
   "name": "python",
   "nbconvert_exporter": "python",
   "pygments_lexer": "ipython3",
   "version": "3.9.12"
  }
 },
 "nbformat": 4,
 "nbformat_minor": 5
}
