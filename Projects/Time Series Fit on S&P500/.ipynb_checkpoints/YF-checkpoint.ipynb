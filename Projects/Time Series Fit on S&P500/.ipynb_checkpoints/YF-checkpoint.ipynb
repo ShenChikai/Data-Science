{
 "cells": [
  {
   "cell_type": "markdown",
   "metadata": {},
   "source": [
    "## IMPORTANT = READ THESE INSTRUCTIONS CAREFULLY\n",
    "\n",
    "In the exercises below your goal is to fill in the cells with code as described. Your functions should work on the samples provided **without modification.**\n",
    "\n",
    "\n",
    "- **we** should be able to run your entire notebook by selecting Run->Run All Cells and **all** of your code will run without error within at most a few minutes\n",
    "- if we have to modify your code so that it runs there will be a penalty - for example if you have indentations that cause code to fail there will be a penalty\n",
    "- you are asked to produce many functions below - it would be wise to test these to make sure they work as you intend and without generating errors\n",
    "- you should not use lists when you can use numpy arrays\n",
    "- you should not use recursion when you don't have to and when it is inefficient (both in memory and time to execution) to use recursion\n",
    "- once you have done your testing **you should be sure to remove**\n",
    "    - any functions that are not needed in the code you are asked to provide\n",
    "    - any variable assignments that are not needed in the code you are asked to provide\n",
    "- make sure your code runs on examples does not contain infinite loops\n",
    "- make sure the time it takes your code to run in examples is consistent with the complexity of the task being carried out\n",
    "- do not put lines of code that excecute at the OS level. For example you should not have lines that install packages included in your code. Do all of your package installation outside of the notebook.\n",
    "- when asked to write a function with some name, make sure you \n",
    "    - use the exact name asked for\n",
    "    - use the exact arguments asked for\n",
    "    - give the exact type of output asked for\n",
    "- this notebook (and not some supporting pdf file) is the ultimate authority as to what output is asked for in a function\n",
    "- functions you provide will be tested, so we'll be looking for functions with the exact name asked for. Make sure you only have **one version** in your notebook."
   ]
  },
  {
   "cell_type": "code",
   "execution_count": 66,
   "metadata": {},
   "outputs": [],
   "source": [
    "import numpy as np\n",
    "import time\n",
    "import requests\n",
    "import pandas as pd"
   ]
  },
  {
   "cell_type": "markdown",
   "metadata": {},
   "source": [
    "**Stochastic Differential Equations and their realizations**\n",
    "\n",
    "Suppose we have a stochastic differential equation of the form\n",
    "$$\n",
    "dS_t = f(t,S_t) dt + g(t,S_t) dB_t\n",
    "$$\n",
    "with starting value $S_0$ given.  \n",
    "\n",
    "Under (unstated) regularity conditions for the functions $f$ and $g$ we can generate approximate realizations $S_t$ for $t\\in [0,T]$ as follows. Pick a large integer $N$ \n",
    "and define $\\Delta=T/N.$ Then for regularly spaced points $0,T/N,2T/N,...,T$ \n",
    "our *Euler scheme* gives the values of $S_{i\\Delta}$ for $i=0,\\ldots,N$ iteratively:\n",
    "\n",
    "Take $S_0$ as given, then, having defined $S_{i\\Delta}$ take\n",
    "$$\n",
    "S_{(i+1)\\Delta} = S_{i\\Delta} + f(i\\Delta,S_{i\\Delta})\\Delta\n",
    "+g(i\\Delta,S_{i\\Delta})\\delta_i\\sqrt{\\Delta}\n",
    "$$\n",
    "where the $\\delta_i$ are iid $N(0,1)$ random variables.\n",
    "\n",
    "At non grid points, we can define $S_t$ by linear interpolation.\n",
    "\n",
    "**Standard Brownian Motion**\n",
    "\n",
    "Note that we get standard Brownian motion as a special case by taking\n",
    "$$ f\\equiv 0$$\n",
    "and\n",
    "$$ g\\equiv 1$$\n",
    "\n",
    "\n",
    "**Brownian Motion with Drift**\n",
    "\n",
    "More generally, if for some constants $\\mu$ and $\\sigma$ we take \n",
    "$$\n",
    "f(x,t) = \\mu\n",
    "$$\n",
    "$$\n",
    "g(x,t) = \\sigma \n",
    "$$\n",
    "i.e. both functions are constant,\n",
    "so that\n",
    "$$\n",
    "dS_t = \\mu dt + \\sigma dB_t\n",
    "$$\n",
    "we get a process referred to as Brownian motion with drift parameter $\\mu$  and volatility parameter $\\sigma.$\n",
    "\n",
    "\n",
    "Note that if $\\sigma=0$ we get a process without stochasticity\n",
    "$$\n",
    "dS_t = \\mu dt\n",
    "$$\n",
    "with deterministic solution\n",
    "$$\n",
    "S_t = S_0 + \\mu t\n",
    "$$\n",
    "\n",
    "hence, we might more precisely be referring to our process as Brownian motion with *linear* drift, and we could have more general drift terms, but the above is standard terminology. \n",
    "\n",
    "**Geometric Brownian Motion**\n",
    "\n",
    "If we transform Brownian motion with drift by exponentiation i.e. by defining $G_t = \\exp(S_t)$ (so that the updates are *multiplicative* rather than *additive*) we get what is referred to as \n",
    "**geometric Brownian motion** (with drift) a process often used in finance to model asset prices since it cannot become negative.\n",
    "\n",
    "Ito's Lemma tells us that for this process\n",
    "(I fixed a typo here and changed $dG_t$ to $dB_t$)\n",
    "$$\n",
    "dG_t = (\\mu + \\frac{1}{2} \\sigma^2) G_t dt + \\sigma G_t dB_t\n",
    "$$\n",
    "which can be written as \n",
    "$$\n",
    "dG_t = \\tilde{f}(t,G_t) dt + \\tilde{g}(t,G_t) dG_t\n",
    "$$\n",
    "where \n",
    "$$\n",
    "\\tilde{f}(t,x) = (\\mu  + \\frac{1}{2} \\sigma^2) x\n",
    "$$\n",
    "and\n",
    "$$\n",
    "\\tilde{g}(t,x) = \\sigma x\n",
    "$$"
   ]
  },
  {
   "cell_type": "markdown",
   "metadata": {},
   "source": [
    "**Problem 1:  Generate an SDE Realization**\n",
    "\n",
    "Write a function called *GenerateSDERealization* that takes the following arguments:\n",
    "- a starting value S0\n",
    "- a function $f$ of two floating point variables that returns a single value floating point value\n",
    "- a function $g$ of two floating point variables that returns a single value floating point value\n",
    "- a positive number $T$\n",
    "- a positive integer $N$\n",
    "\n",
    "and which returns a 2-tuple containing two **numpy arrays**. \n",
    "\n",
    "- an array of values $0,\\Delta,2\\Delta,\\ldots,T$ where $\\Delta=T/N,$\n",
    "- an array containing values $S_0=S0,S_\\Delta,\\ldots,S_T$ for a realization as described above.\n",
    "\n",
    "Your code will allow you to generate realizations for various processes satisying the SDE\n",
    "\n",
    "$$\n",
    "dS_t = f(t,S_t) dt + g(t,S_t) dB_t\n",
    "$$\n",
    "\n",
    "by just changing the functions $f$ and $g$ and using them as arguments to our function.\n",
    "\n",
    "**Notes**\n",
    "\n",
    "- In your code, computing the square root of $\\Delta$ in every iteration should be avoided\n",
    "- You should work with numpy arrays throughout. Don't start with a list and append to it. That's slow.\n",
    "- Allocate the numpy arrays you need outside of the loop.\n",
    "- Generate your needed array of $N(0,1)$ random variables outside the loop instead of generating these one at a time inside a loop."
   ]
  },
  {
   "cell_type": "code",
   "execution_count": 67,
   "metadata": {},
   "outputs": [],
   "source": [
    "def GenerateSDERealization(S0,f,g,T,N):\n",
    "    delta = T/N\n",
    "    sqrt_delta = np.sqrt(delta)\n",
    "    small_del_norms = np.random.normal(loc=0.0, scale=1.0, size=N+1)\n",
    "    S_last = S0\n",
    "    T_arr = np.empty(N+1)\n",
    "    S_arr = np.empty(N+1)\n",
    "    \n",
    "    for i in range(N+1):\n",
    "        T_arr[i] = i * delta\n",
    "        S_arr[i] = S_last + (f(i*delta, S_last) * delta) + (g(i*delta, S_last) * small_del_norms[i] * sqrt_delta)\n",
    "        S_last = S_arr[i]\n",
    "        \n",
    "    return (T_arr, S_arr)"
   ]
  },
  {
   "cell_type": "markdown",
   "metadata": {},
   "source": [
    "**Plotting a realization**\n",
    "\n",
    "You can test that plots of your realizations look reasonable using the code below. "
   ]
  },
  {
   "cell_type": "code",
   "execution_count": 68,
   "metadata": {},
   "outputs": [
    {
     "name": "stdout",
     "output_type": "stream",
     "text": [
      "0.011960506439208984\n"
     ]
    },
    {
     "data": {
      "image/png": "[encoded data removed]",
      "text/plain": [
       "<Figure size 432x288 with 1 Axes>"
      ]
     },
     "metadata": {
      "needs_background": "light"
     },
     "output_type": "display_data"
    }
   ],
   "source": [
    "import matplotlib.pyplot as plt\n",
    "\n",
    "start_time=time.time()\n",
    "ntrials=1000\n",
    "N=1000\n",
    "T=3\n",
    "mu=.01\n",
    "sigma=.25\n",
    "S0=1\n",
    "G0=np.exp(S0)\n",
    "\n",
    "def f(t,x):\n",
    "    return(np.sin(t)*np.cos(x))\n",
    "def g(t,x):\n",
    "    return(1+.1*np.sin(t))\n",
    "\n",
    "Tvec,Svec=GenerateSDERealization(S0,f,g,T,N)\n",
    "Gvec=np.exp(Svec)\n",
    "plt.plot(Tvec,Gvec)\n",
    "\n",
    "end_time=time.time()\n",
    "print(end_time-start_time)"
   ]
  },
  {
   "cell_type": "markdown",
   "metadata": {},
   "source": [
    "**Testing Ito's Lemma: A Special Case**\n",
    "\n",
    "As pointed out in the notes, we can define geometric Brownian motion in the interval $[0,\\infty)$\n",
    "with some specified value $G_0$ \n",
    "in two alterntaive ways:\n",
    "\n",
    "- (method 1) Start with Brownian motion $B_t$ starting at 0 and transform it to get $G_t = G_0\\exp\\{\\mu t + \\sigma B_t\\}$\n",
    "(fixed a typo in the following)\n",
    "- (method 2) Use the SDE representation $dG_t = (\\mu + \\frac{1}{2}\\sigma^2) G_t dt + \\sigma G_t dB_t$ starting at $G0$\n",
    "\n",
    "where $\\mu$ and $\\sigma \\geq 0$ are constants.\n",
    "\n",
    "You should be able to generate realizations from each of the two methods by calling your **GenerateSDERealization** function in Problem 1, using appropriate arguments.\n",
    "\n",
    "**Problem 2**\n",
    "\n",
    "Write a function called **GBM2Versions** that takes as input \n",
    "- **G0** a starting value G0\n",
    "- **mu**  a constant \n",
    "- **sigma** a (positive) constant \n",
    "- **T** a (positive) constant  \n",
    "- **N** a (positive) integer\n",
    "\n",
    "Your function should return a numpy array with $N+1$ rows and 3 columns. The 0th column should contain the time points $0,T/N,2T/N,...,T$ where the realizations are defined, The other two columns should contain realizations of geometric Brownian motion starting at $G_0$ in the time interval $[0,T]$ where $N$ is the number of intervals that the interval $[0,T]$ has been broken up into.\n",
    "\n",
    "- The 1-th column should be generated using method 1\n",
    "- The 2-th column should be generated using method 2\n",
    "\n",
    "To produce the 1-th and 2-th columns of output, you should be using two separate calls to **GenerateSDERealization** with appropriate arguments.\n",
    "\n",
    "**Important!!!** \n",
    "\n",
    "Do not include the code for GenerateSDERealization you created in Problem 1 in the cell below. You should be calling this function. (Oh and good idea to make sure you get that right.)**\n",
    "\n",
    "Other than calling the GenerateSDERealization function and using the numpy package your code should be **self-contained.** In particular, do **not** define functions you use outside of the function you are asked for. These functions should be defined **inside** the GBM2Versions code.\n",
    "\n",
    "If you concatenate numpy arrays, find a way to do it that does **not** use lists or loops and try to make it happen quickly."
   ]
  },
  {
   "cell_type": "code",
   "execution_count": 69,
   "metadata": {},
   "outputs": [],
   "source": [
    "def GBM2Versions(G0,mu,sigma,T,N):\n",
    "    # For method 1: f and g are now const, thus the func args do not matter\n",
    "    f1 = lambda xxx, yyy: mu\n",
    "    g1 = lambda xxx, yyy: sigma\n",
    "    \n",
    "    # For method 2\n",
    "    f2 = lambda xxx, G_last: (mu + 0.5 * sigma**2) * G_last\n",
    "    g2 = lambda xxx, G_last: sigma * G_last\n",
    "    \n",
    "    GBM_mtx = np.zeros([N+1,3]) # 1st col = T_arr | 2nd col = G_arr_1 | 3rd col = G_arr_2\n",
    "    # Method 1\n",
    "    GBM_mtx[:,0] , Bt = GenerateSDERealization(0,f,g,T,N)\n",
    "    GBM_mtx[:,1] = G0*np.exp(GBM_mtx[:,0] * mu + sigma * Bt)\n",
    "        \n",
    "    # Method 2\n",
    "    _, GBM_mtx[:,2] = GenerateSDERealization(G0,f2,g2,T,N)\n",
    "        \n",
    "    return GBM_mtx"
   ]
  },
  {
   "cell_type": "code",
   "execution_count": 70,
   "metadata": {},
   "outputs": [
    {
     "data": {
      "text/plain": [
       "[<matplotlib.lines.Line2D at 0x263c6be9a00>]"
      ]
     },
     "execution_count": 70,
     "metadata": {},
     "output_type": "execute_result"
    },
    {
     "data": {
      "image/png": "[encoded data removed]",
      "text/plain": [
       "<Figure size 432x288 with 1 Axes>"
      ]
     },
     "metadata": {
      "needs_background": "light"
     },
     "output_type": "display_data"
    }
   ],
   "source": [
    "# Test\n",
    "GBM_mtx = GBM2Versions(3,0.01,0.25,3,1000)\n",
    "\n",
    "plt.plot(GBM_mtx[:,0],GBM_mtx[:,1])\n",
    "plt.plot(GBM_mtx[:,0],GBM_mtx[:,2], \"r\")"
   ]
  },
  {
   "cell_type": "markdown",
   "metadata": {},
   "source": [
    "**Problem 3 - Generating GBM at given time points (not necessarily equi-spaced)**\n",
    "\n",
    "Recall that the increments for Brownian motion are independent and normally distributed, so we can generate realizations of Brownian motion at\n",
    "any sequence of time points $t_0 < t_1 < \\ldots < t_N$ without needing to use a *finer* grid of time points, and we create geometric Brownian motion \n",
    "realizations at a sequence of time points without the introduction of a finer time point grid.\n",
    "\n",
    "Write a function called **GenerateGBMRealization** that takes as one arguments \n",
    "\n",
    "- **G0** a starting point for realizations of GBM\n",
    "- **mu** the drift parameter\n",
    "- **sigma** the volatility parameter\n",
    "- **T** a 1-d numpy array of times in strictly increasing order with **T[0]=0** assumed\n",
    "\n",
    "at which we want to generate a single realization of GBM process starting with value **G0** at time 0 and with parameters **mu** and **sigma** at at those times in the array **T**.\n",
    "\n",
    "Your function should return \n",
    "\n",
    "- a numpy array that has two columns and number of rows equal to the number of entries in T.\n",
    "\n",
    "**Additional requirements:**\n",
    "\n",
    "The function should be self-contained, and you should only have to generate the realization that those specific time points. In other words, you should not have to discretize into tiny time increments.\n",
    "\n",
    "You should generate Brownian motion with drift *then* exponentiate it rather than doing updates on a multiplicative scale.\n",
    "\n",
    "You should generate any random variables using a single numpy function call outside of a loop."
   ]
  },
  {
   "cell_type": "code",
   "execution_count": 71,
   "metadata": {},
   "outputs": [],
   "source": [
    "def GenerateGBMRealization(G0,mu,sigma,T):\n",
    "    small_del_norms = np.random.normal(loc=0.0, scale=1.0, size=len(T)+1)\n",
    "    B_last = 0\n",
    "    GBM_mtx = np.zeros([len(T),2])\n",
    "    \n",
    "    GBM_mtx[:,0] = T\n",
    "    for i in range(0,len(T)-1):\n",
    "        delta = T[i + 1] - T[i]\n",
    "        GBM_mtx[i,1] = B_last + (mu * delta) + (sigma * small_del_norms[i] * np.sqrt(delta))\n",
    "        B_last = GBM_mtx[i,1]\n",
    "    # Take last delta for the final G value (G_TN) as (t+1) is invalid at this point\n",
    "    delta = T[-1] - T[-2]\n",
    "    GBM_mtx[-1,1] = B_last + (mu * delta) + (sigma * small_del_norms[i] * np.sqrt(delta))\n",
    "    \n",
    "    GBM_mtx[:,1] = G0*np.exp(GBM_mtx[:,0] * mu + sigma * GBM_mtx[:,1])\n",
    "    \n",
    "    return GBM_mtx"
   ]
  },
  {
   "cell_type": "code",
   "execution_count": 73,
   "metadata": {},
   "outputs": [
    {
     "name": "stdout",
     "output_type": "stream",
     "text": [
      "(1000, 2)\n"
     ]
    },
    {
     "data": {
      "text/plain": [
       "[<matplotlib.lines.Line2D at 0x263c6c78940>]"
      ]
     },
     "execution_count": 73,
     "metadata": {},
     "output_type": "execute_result"
    },
    {
     "data": {
      "image/png": "[encoded data removed]",
      "text/plain": [
       "<Figure size 432x288 with 1 Axes>"
      ]
     },
     "metadata": {
      "needs_background": "light"
     },
     "output_type": "display_data"
    }
   ],
   "source": [
    "# Test\n",
    "T = np.random.uniform(low = 0, high = 3, size=1000)\n",
    "T = np.sort(T)\n",
    "GBM_mtx_t = GenerateGBMRealization(3,0.01,0.25,T)\n",
    "print(GBM_mtx_t.shape)\n",
    "plt.plot(GBM_mtx_t[:,0],GBM_mtx_t[:,1])"
   ]
  },
  {
   "cell_type": "markdown",
   "metadata": {},
   "source": [
    "**Problem 4 - GBM Calibration**\n",
    "\n",
    "Calibrating/fitting an SDE model is all about determining what parameters defining that SDE provide a best fit to data.\n",
    "\n",
    "Calibration of a geometric Brownian motion is somewhat straightforward.\n",
    "Suppose we get to observe a geometric Brownian motion process at time points in the time interval $[0,T]$\n",
    "\n",
    "$t_0=0,t_1,t_2,\\ldots,t_N=T.$ \n",
    "\n",
    "To give an array \n",
    "\n",
    "$G_0,G_1,\\ldots,G_N$\n",
    "\n",
    "Since the log of geometric Brownian motion is Brownian motion with drift paramater $\\mu$ and volatility parameter $\\sigma,$ we can write the successive differences\n",
    "\n",
    "$$\n",
    "\\log(G_{i+1})-\\log(G_i) = \\mu (t_{i+1}-t_i) + \\sigma \\sqrt{t_{i+1}-t_i} \\delta_i\n",
    "$$\n",
    "\n",
    "where the $\\delta_i$ are iid $N(0,1)$ for $i=1,\\ldots,N.$\n",
    "In other words, if we define successive time differences by \n",
    "\n",
    "$$\n",
    "\\Delta_i = t_{i+1}-t_i\n",
    "$$\n",
    "\n",
    "and define the successive differences of the observed $\\log G_t$ by\n",
    "\n",
    "$$\n",
    "\\Delta\\log G_i :=\\log(G_{i+1})-\\log(G_i) \\sim N(\\mu \\Delta_i,\\sigma^2 \\Delta_i)\n",
    "$$\n",
    "for $i=0,1,\\ldots,N-1.$ and these are independent.\n",
    "\n",
    "Then to calibrate can estimate our parameters using the maximum likelihood giving\n",
    "\n",
    "$$\n",
    "\\hat{\\mu} = {\\log G_{t_N} - \\log G_{t_0} \\over t_N - t_0}\n",
    "$$\n",
    "\n",
    "and\n",
    "\n",
    "$$\n",
    "\\hat{\\sigma}=\\sqrt{ \n",
    "\\frac{1}{N}\n",
    "\\sum_{i=0}^{N-1}\n",
    "{\\left(\n",
    "\\Delta \\log G_i - \\hat{\\mu}\\Delta t_i\n",
    "\\right)^2\n",
    "\\over \\Delta t_i}}\n",
    "$$\n",
    "\n",
    "Write a function called **GBMCalibration** that takes as input\n",
    "an (N+1) x 2 numpy array where the first column is the times $t$ at which a GBM process is observed, and the second column is the values $G_t$ of the GBM observed at those times, and returns a 2-tuple consisting of\n",
    "$\\hat{\\mu}$ and $\\hat{\\sigma}$"
   ]
  },
  {
   "cell_type": "code",
   "execution_count": 172,
   "metadata": {},
   "outputs": [],
   "source": [
    "def GBMCalibration(M):\n",
    "    N = M.shape[0] - 1\n",
    "    u = (np.log(M[-1,1]) - np.log(M[0,1])) / (M[-1,0] - M[0,0])\n",
    "    sig = np.sqrt((1/N) * np.sum([( (((np.log(M[i+1,1]) - np.log(M[i,1])) - u*(M[i+1,0]-M[i,0]))**2) / (M[i+1,0]-M[i,0]) ) for i in range(N)]))\n",
    "    return u, sig"
   ]
  },
  {
   "cell_type": "markdown",
   "metadata": {},
   "source": [
    "**Problem 5 - Testing the GBMCalibration Code**\n",
    "\n",
    "Write a function called **TestCalibration** that takes 3 arguments \n",
    "\n",
    "**G0** = starting point for GBM\n",
    "**mu** = the drift parameter\n",
    "**sigma** = the volatility parameter\n",
    "**MaxT** = largest possible value of time at which GBM could be observed\n",
    "**N** = number (greater than 2) of times (positive integer)at which GBM samples are observed\n",
    "\n",
    "Your function should do the following:\n",
    "\n",
    "- generate a 1-d numpy array of **N-2** times uniformly distributed in the interval **[0,MaxTime]**, adjoin the values **0** and **MaxT** to the array, and sort it in increasing order to give a 1-d array with **N** values, **0** being the miniumum and **MaxT** being the maximum. \n",
    "\n",
    "- generate a GBM realization using the parameters **G0**, **mu**, and **sigma** observed at the times in your array of times\n",
    "\n",
    "- call the GBMCalibration function using those times and observations\n",
    "\n",
    "and finally return the pair of parameter estimates (**mu**,**sigma**) obtained from the GMBCalibration function.\n",
    "\n",
    "For large values of N and MaxT, your estimates should resemble the *true* values of **mu** and **sigma**  used to generate the realizations."
   ]
  },
  {
   "cell_type": "code",
   "execution_count": 75,
   "metadata": {},
   "outputs": [],
   "source": [
    "def TestGBMCalibration(G0,mu,sigma,MaxT,N):\n",
    "    T_raw = np.random.uniform(0,MaxT,N-2)\n",
    "    T_raw = np.concatenate((T_raw, np.array([0,MaxT])))\n",
    "    T = np.sort(T_raw)\n",
    "    \n",
    "    Gt = GenerateGBMRealization(G0,mu,sigma,T)\n",
    "    return GBMCalibration(Gt)"
   ]
  },
  {
   "cell_type": "code",
   "execution_count": 76,
   "metadata": {},
   "outputs": [
    {
     "name": "stdout",
     "output_type": "stream",
     "text": [
      "(0.011957119619002357, 0.21139501561111504)\n"
     ]
    }
   ],
   "source": [
    "# Test\n",
    "print(TestGBMCalibration(1,0.01,0.25,1000,100000))"
   ]
  },
  {
   "cell_type": "markdown",
   "metadata": {},
   "source": [
    "**Problem 6**\n",
    "\n",
    "Data giving \n",
    "\n",
    "- *daily adjusted closing* prices for the S&P 500 Index for one year, and\n",
    "- *weekly adjusted closing* prices for the S&P 500 Index for one year\n",
    "\n",
    "have been provided as comma-delimited files. These files have been downloaded from the Yahoo Finance site.\n",
    "\n",
    "Write a function called **FitGBMToData** that takes a **single argument**, namely, \n",
    "\n",
    "- filepath = path to a data file on disk\n",
    "\n",
    "Your function should read in the data from one of the files, fit a GBM model using your calibration function and return the pair consisting of fitted values of **mu** and **sigma**.\n",
    "\n",
    "Your function should work for either of the two data files (and any file that has the same format).\n",
    "\n",
    "Here, you can take the time unit for your \n",
    "\n",
    "**Notes:**\n",
    "\n",
    "- the data in the files are in reverse chronological order - this needs to be fixed\n",
    "- there is a line at the end of each file that needs to be ignored\n",
    "- your function should be able to read either of the file from disk **as they have been given to you i.e. no modifying the file is allowed before it is read** \n",
    "- use the \"Adj Close\" column \n",
    "- use a single day as the time unit (even for weekly data)\n",
    "- make sure you take into account that there are (holiday and weekend) gaps in the days\n",
    "- you'll need to do some researching to figure out how to get number of days since the first day"
   ]
  },
  {
   "cell_type": "code",
   "execution_count": 77,
   "metadata": {},
   "outputs": [],
   "source": [
    "def FitGBMToData(filepath):\n",
    "    df = pd.read_csv(filepath)[[\"Date\",\"Adj Close**\"]]\n",
    "    # Clean data\n",
    "    df = df.drop(df.index[-1])\n",
    "    \n",
    "    for i in range(len(df[\"Date\"])):\n",
    "        if len(df.loc[i,\"Date\"].split('-')[0]) == 1:\n",
    "            df.loc[i,\"Date\"] = '0'+df.loc[i,\"Date\"]\n",
    "    df['Date'] = pd.to_datetime(df['Date'], format=\"%d-%b-%y\")\n",
    "    \n",
    "    df = df.sort_values(by='Date',ascending=True)\n",
    "    df.reset_index(drop=True, inplace=True)\n",
    "    \n",
    "    # Calculate Time array with (len-1) time intervals\n",
    "    NumDays = (df.iloc[-1,0] - df.iloc[0,0]).days # Number of days\n",
    "    T = np.zeros(len(df[\"Date\"])-1)\n",
    "    G = np.zeros(len(df[\"Date\"])-1)\n",
    "    T[0] = 0\n",
    "    G[0] = df.iloc[0,1].replace(',','')\n",
    "    for i in range(1, len(df[\"Date\"])-1):\n",
    "        T[i] = (df.iloc[i+1,0] - df.iloc[i,0]).days + T[i-1]\n",
    "        G[i] = df.iloc[i,1].replace(',','')\n",
    "    G = G.astype(float)\n",
    "    M = np.stack((T, G),axis = 1)\n",
    "\n",
    "    # Fit model\n",
    "    return GBMCalibration(M)"
   ]
  },
  {
   "cell_type": "code",
   "execution_count": 78,
   "metadata": {},
   "outputs": [
    {
     "name": "stdout",
     "output_type": "stream",
     "text": [
      "(0.00020810729569531236, 0.00881730160022227)\n",
      "(0.0003439897277052631, 0.009813413279867348)\n"
     ]
    }
   ],
   "source": [
    "# Test\n",
    "print(FitGBMToData('SP500Daily.csv'))\n",
    "print(FitGBMToData('SP500Weekly.csv'))"
   ]
  },
  {
   "cell_type": "code",
   "execution_count": 79,
   "metadata": {},
   "outputs": [
    {
     "name": "stdout",
     "output_type": "stream",
     "text": [
      "Time Arr in first 10 days: [ 0.  3.  4.  5.  6.  7. 10. 11. 12. 13.]\n",
      "(0.00021693109523694072, 6.579519351429378e-05)\n"
     ]
    },
    {
     "data": {
      "image/png": "[encoded data removed]",
      "text/plain": [
       "<Figure size 432x288 with 1 Axes>"
      ]
     },
     "metadata": {
      "needs_background": "light"
     },
     "output_type": "display_data"
    }
   ],
   "source": [
    "# Test\n",
    "def showComparison():\n",
    "    df = pd.read_csv(\"SP500Daily.csv\")[[\"Date\",\"Adj Close**\"]]\n",
    "    # Clean data\n",
    "    df = df.drop(df.index[-1])\n",
    "\n",
    "    for i in range(len(df[\"Date\"])):\n",
    "        if len(df.loc[i,\"Date\"].split('-')[0]) == 1:\n",
    "            df.loc[i,\"Date\"] = '0'+df.loc[i,\"Date\"]\n",
    "    df['Date'] = pd.to_datetime(df['Date'], format=\"%d-%b-%y\")\n",
    "\n",
    "    df = df.sort_values(by='Date',ascending=True)\n",
    "    df.reset_index(drop=True, inplace=True)\n",
    "\n",
    "    # Calculate Time array with (len-1) time intervals\n",
    "    NumDays = (df.iloc[-1,0] - df.iloc[0,0]).days # Number of days\n",
    "    Time_stock = np.zeros(len(df[\"Date\"])-1)\n",
    "    G_stock = np.zeros(len(df[\"Date\"])-1)\n",
    "    Time_stock[0] = 0\n",
    "    G_stock[0] = df.iloc[0,1].replace(',','')\n",
    "    for i in range(1, len(df[\"Date\"])-1):\n",
    "        Time_stock[i] = (df.iloc[i+1,0] - df.iloc[i,0]).days + Time_stock[i-1]\n",
    "        G_stock[i] = df.iloc[i,1].replace(',','')\n",
    "    G_stock = G_stock.astype(float)\n",
    "    M_stock = np.stack((Time_stock, G_stock),axis = 1)\n",
    "    Stock_modeled = GenerateGBMRealization(4134.98, 0.000208, 0.008,Time_stock)\n",
    "    #Stock_modeled = GenerateGBMRealization(2348.69, 0.0003439897, 0.0098,Time_stock)\n",
    "    print(\"Time Arr in first 10 days:\",Time_stock[0:10])\n",
    "    print(GBMCalibration(Stock_modeled))\n",
    "\n",
    "    plt.plot(Stock_modeled[:,0],Stock_modeled[:,1], 'r')\n",
    "    plt.plot(Time_stock,G_stock)\n",
    "\n",
    "showComparison()"
   ]
  },
  {
   "cell_type": "markdown",
   "metadata": {},
   "source": [
    "**Problem 7 - Parametric Bootstrap Confidence Intervals**\n",
    "\n",
    "The GBM model is an example of a *parametric model*. We have a method for estimating the parameters of that model from data. How confident can we be about our estimates? We are sampling a process, and this leads to uncertainty since we only have one realization to use for estimation. \n",
    "\n",
    "One way to address this question is using the **parametric bootstrap**.  Once we have our parameter estimates, we pretend that these are the true values. Then we can generate several realizations, fixing the following\n",
    "\n",
    "- **G0** - the starting value at the value for the actual data\n",
    "- **mu** - the estimated drift parameter for the actual data\n",
    "- **sigma** - the estimated volatility parameter for the actual data\n",
    "- **T** - the vector of times at which we observe the process for the actual data.\n",
    "\n",
    "For each realization, we can estimate the parameters **mu** and **sigma**.\n",
    "\n",
    "If we do this **N** times we get \n",
    "\n",
    "$$\\hat{\\mu}_1,\\hat{\\mu}_2,\\ldots,\\hat{\\mu}_N$$\n",
    "$$\\hat{\\sigma}_1,\\hat{\\sigma}_2,\\ldots,\\hat{\\sigma}_N$$\n",
    "\n",
    "and these provide some indication of the inherent *sampling variation* we should have anticipated in our actual estimates.\n",
    "\n",
    "A 95% bootstrap confidence confidence interval for $\\mu$ is gotten from the 2.5% and 97.5% sample percentiles\n",
    "of the $\\hat{\\mu}_i,i=1,\\ldots,N.$ Denoting these quantiles by $q_{.025}(\\hat{\\mu})$ and \n",
    "$q_{.975}(\\hat{\\mu})$ we can take our confidence interval for $\\mu$ to be\n",
    "$$[q_{.025}(\\hat{\\mu}),q_{.975}(\\hat{\\mu})].$$\n",
    "\n",
    "Write a function called **GBMBootstrapCI** that takes as inputs the following\n",
    "\n",
    "- **G0** - the starting value at the value for the actual data\n",
    "- **mu** - the estimated drift parameter for the actual data\n",
    "- **sigma** - the estimated volatility parameter for the actual data\n",
    "- **T** - the vector of times at which we observe the process for the actual data, and\n",
    "- **N** - the number of bootstrap trials/the bootstrap sample size\n",
    "\n",
    "Your function should do the following for i=0,...,N-1:\n",
    "\n",
    "- generate a realization of GBM using the input values of G0, mu, sigma and T using your **GenerateGBMRealization** function\n",
    "- calibrate the model using the **GBMCalibration** function to get $\\hat{\\mu}_i$ and $\\hat{\\sigma}_i$\n",
    "\n",
    "and your output should be a 4-tuple consisting of\n",
    "\n",
    "- **$q_{.025}(\\hat{\\mu})$**\n",
    "- **$q_{.975}(\\hat{\\mu})$**\n",
    "- **$q_{.025}(\\hat{\\sigma})$**\n",
    "- **$q_{.975}(\\hat{\\sigma})$**"
   ]
  },
  {
   "cell_type": "code",
   "execution_count": 80,
   "metadata": {},
   "outputs": [],
   "source": [
    "def GBMBootstrapCI(G0,mu,sigma,T,N):\n",
    "    u_arr= np.zeros(N)\n",
    "    sig_arr = np.zeros(N)\n",
    "    for i in range(N):\n",
    "        Temp_M = GenerateGBMRealization(G0, mu, sigma, T)\n",
    "        u_arr[i], sig_arr[i] = GBMCalibration(Temp_M)\n",
    "        \n",
    "    u_arr = np.sort(u_arr)\n",
    "    sig_arr = np.sort(sig_arr)\n",
    "    return np.quantile(u_arr, .025), np.quantile(u_arr, .975), np.quantile(sig_arr, .025), np.quantile(sig_arr, .975)"
   ]
  },
  {
   "cell_type": "markdown",
   "metadata": {},
   "source": [
    "**Problem 8** \n",
    "\n",
    "Run your **FitGBMToData** on the actual daily data to get parameter estimates and use your **GBMBootstrapCI** function to get a confidence interval for **sigma** based on a bootstrap sample size of N=1000. In the cell below, assign **literal** values of the left and right endpoints (also referred to as lower and upper confidence interval endpoints) of the interval you obtain.\n",
    "\n",
    "Reminder - **literal** means the right hand side of the assignment should be a number and should not involve any  functions or arithmetic operations"
   ]
  },
  {
   "cell_type": "code",
   "execution_count": 86,
   "metadata": {},
   "outputs": [
    {
     "name": "stdout",
     "output_type": "stream",
     "text": [
      "FitGBMToData: \n",
      "    mu = 0.00020810729569531236 \n",
      "    sigma = 0.00881730160022227\n",
      "Time [ 0.  3.  4.  5.  6.  7. 10. 11. 12. 13. 14. 17. 18. 19. 20.]\n",
      "Time [ 0.  3.  4.  5.  6.  7. 10. 11. 12. 13. 14. 17. 18. 19. 20.]\n",
      "GBMBootstrapCI: \n",
      "    mu = [0.00020273072077072656, 0.00021772782614402173]\n",
      "GBMBootstrapCI: \n",
      "    sigma = [7.851818257637994e-05, 9.75998206632673e-05]\n"
     ]
    }
   ],
   "source": [
    "# Test\n",
    "def getTBoot(filepath):\n",
    "    df = pd.read_csv(filepath)[[\"Date\",\"Adj Close**\"]]\n",
    "    # Clean data\n",
    "    df = df.drop(df.index[-1])\n",
    "    \n",
    "    for i in range(len(df[\"Date\"])):\n",
    "        if len(df.loc[i,\"Date\"].split('-')[0]) == 1:\n",
    "            df.loc[i,\"Date\"] = '0'+df.loc[i,\"Date\"]\n",
    "    df['Date'] = pd.to_datetime(df['Date'], format=\"%d-%b-%y\")\n",
    "    \n",
    "    df = df.sort_values(by='Date',ascending=True)\n",
    "    df.reset_index(drop=True, inplace=True)\n",
    "    \n",
    "    # Calculate Time array with (len-1) time intervals\n",
    "    NumDays = (df.iloc[-1,0] - df.iloc[0,0]).days # Number of days\n",
    "    T = np.zeros(len(df[\"Date\"])-1)\n",
    "    G = np.zeros(len(df[\"Date\"])-1)\n",
    "    T[0] = 0\n",
    "    for i in range(1, len(df[\"Date\"])-1):\n",
    "        T[i] = (df.iloc[i+1,0] - df.iloc[i,0]).days + T[i-1]\n",
    "    print(\"Time\",T[0:15])\n",
    "    return float(df.iloc[0,1].replace(\",\",'')), T\n",
    "\n",
    "fit_u, fig_sig = FitGBMToData('SP500Daily.csv')\n",
    "print(f\"FitGBMToData: \\n    mu = {fit_u} \\n    sigma = {fig_sig}\")\n",
    "u_q025, u_q975, sig_q025, sig_q975 = GBMBootstrapCI(getTBoot('SP500Daily.csv')[0], fit_u, fig_sig, getTBoot('SP500Daily.csv')[1], 1000)\n",
    "print(f\"GBMBootstrapCI: \\n    mu = [{u_q025}, {u_q975}]\")\n",
    "print(f\"GBMBootstrapCI: \\n    sigma = [{sig_q025}, {sig_q975}]\")\n",
    "\n"
   ]
  },
  {
   "cell_type": "code",
   "execution_count": 87,
   "metadata": {},
   "outputs": [],
   "source": [
    "sigma_lower_CI_endpoint=sig_q025\n",
    "sigma_upper_CI_endpoint=sig_q975"
   ]
  },
  {
   "cell_type": "markdown",
   "metadata": {},
   "source": [
    "## Yahoo Finance"
   ]
  },
  {
   "cell_type": "code",
   "execution_count": 88,
   "metadata": {},
   "outputs": [],
   "source": [
    "import yfinance as yf"
   ]
  },
  {
   "cell_type": "code",
   "execution_count": 150,
   "metadata": {},
   "outputs": [
    {
     "name": "stdout",
     "output_type": "stream",
     "text": [
      "(3505, 2)\n",
      "                       Date      Close\n",
      "0 2020-05-01 09:30:00-04:00  71.125000\n",
      "1 2020-05-01 10:30:00-04:00  70.952499\n",
      "2 2020-05-01 11:30:00-04:00  70.480003\n",
      "3 2020-05-01 12:30:00-04:00  70.562675\n",
      "4 2020-05-01 13:30:00-04:00  71.092499\n"
     ]
    }
   ],
   "source": [
    "# Test on Nvidia from 2020-04 to 2022-04\n",
    "nvda = yf.Ticker(\"nvda\")\n",
    "nvda_historical = nvda.history(start=\"2020-05-01\", end=\"2022-04-28\", interval=\"1h\")\n",
    "# Reset index to create a column for Date (Date was originally used for indexing)\n",
    "nvda_historical = nvda_historical.reset_index()\n",
    "nvda_historical.rename(columns={'index': 'Date'}, inplace=True, errors='raise')\n",
    "# Filter for Date, Close\n",
    "nvda_historical = nvda_historical[[\"Date\", \"Close\"]]\n",
    "print(nvda_historical.shape)\n",
    "print(nvda_historical.head())"
   ]
  },
  {
   "cell_type": "code",
   "execution_count": 162,
   "metadata": {},
   "outputs": [
    {
     "name": "stdout",
     "output_type": "stream",
     "text": [
      "[[0.00000000e+00 7.11250000e+01]\n",
      " [1.00000000e+00 7.09524994e+01]\n",
      " [2.00000000e+00 7.04800034e+01]\n",
      " ...\n",
      " [1.20250000e+04 1.86639999e+02]\n",
      " [1.20260000e+04 1.84369995e+02]\n",
      " [1.20260000e+04 1.84169998e+02]]\n",
      "[12026.           184.36999512]\n"
     ]
    }
   ],
   "source": [
    "# Create np array for Time, Close\n",
    "NVDA = np.zeros([3505 - 1,2])\n",
    "NVDA[0,1] = nvda_historical.iloc[0,1]\n",
    "for i in range(1, len(nvda_historical[\"Date\"])-1):\n",
    "    NVDA[i,0] = (nvda_historical.iloc[i+1,0] - nvda_historical.iloc[i,0]).seconds//3600 + NVDA[i-1,0]\n",
    "    NVDA[i,1] = nvda_historical.iloc[i,1]\n",
    "print(NVDA)\n",
    "NVDA = np.delete(NVDA, -1, axis = 0)\n",
    "print(NVDA[-1,:])"
   ]
  },
  {
   "cell_type": "code",
   "execution_count": 173,
   "metadata": {},
   "outputs": [
    {
     "name": "stdout",
     "output_type": "stream",
     "text": [
      "7.920386572027568e-05 0.010777602598421001\n",
      "(8.193162555889807e-05, 0.00022059889329453222)\n"
     ]
    },
    {
     "data": {
      "text/plain": [
       "[<matplotlib.lines.Line2D at 0x263cdc31c10>]"
      ]
     },
     "execution_count": 173,
     "metadata": {},
     "output_type": "execute_result"
    },
    {
     "data": {
      "image/png": "[encoded data removed]",
      "text/plain": [
       "<Figure size 432x288 with 1 Axes>"
      ]
     },
     "metadata": {
      "needs_background": "light"
     },
     "output_type": "display_data"
    }
   ],
   "source": [
    "# Test GBM\n",
    "nvda_mu, nvda_sigma = GBMCalibration(NVDA)\n",
    "print(nvda_mu, nvda_sigma)\n",
    "nvda_model = GenerateGBMRealization(71.125,nvda_mu,nvda_sigma,NVDA[:,0])\n",
    "print(GBMCalibration(nvda_model))\n",
    "plt.plot(nvda_model[:,0],nvda_model[:,1])\n",
    "plt.plot(nvda_model[:,0],nvda_historical.iloc[:-2,1])"
   ]
  }
 ],
 "metadata": {
  "kernelspec": {
   "display_name": "Python 3 (ipykernel)",
   "language": "python",
   "name": "python3"
  },
  "language_info": {
   "codemirror_mode": {
    "name": "ipython",
    "version": 3
   },
   "file_extension": ".py",
   "mimetype": "text/x-python",
   "name": "python",
   "nbconvert_exporter": "python",
   "pygments_lexer": "ipython3",
   "version": "3.9.12"
  }
 },
 "nbformat": 4,
 "nbformat_minor": 4
}
