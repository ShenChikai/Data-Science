{
 "cells": [
  {
   "cell_type": "markdown",
   "metadata": {},
   "source": [
    "# Section 4\n",
    "Click the hyperlinks for helpful functions."
   ]
  },
  {
   "cell_type": "markdown",
   "metadata": {},
   "source": [
    "# 1\n",
    "Load the [`boston`](https://scikit-learn.org/stable/modules/generated/sklearn.datasets.load_boston.html) dataset from `sklearn`. Perform a [train/test split](https://scikit-learn.org/stable/modules/generated/sklearn.model_selection.train_test_split.html) with 40% of the data for the test set. Use a random state of 553. \n",
    "\n",
    "Create new training and test predictor arrays with a [polynomial transform](https://scikit-learn.org/stable/modules/generated/sklearn.preprocessing.PolynomialFeatures.html), taking all predictor powers of degree three or less. Perform a [standard scaling](https://scikit-learn.org/stable/modules/generated/sklearn.preprocessing.StandardScaler.html) of the resulting arrays."
   ]
  },
  {
   "cell_type": "code",
   "execution_count": 1,
   "metadata": {},
   "outputs": [],
   "source": [
    "from sklearn.datasets import load_boston\n",
    "boston_bunch = load_boston()\n",
    "X = boston_bunch.data\n",
    "y = boston_bunch.target\n",
    "labels = boston_bunch.feature_names\n",
    "\n",
    "from sklearn.model_selection import train_test_split\n",
    "X_train, X_test, y_train, y_test = train_test_split(X, y, test_size=0.4, random_state=553)\n",
    "\n",
    "import sklearn.preprocessing as prepro\n",
    "poly = prepro.PolynomialFeatures(3)\n",
    "X_train = poly.fit_transform(X_train)\n",
    "X_test = poly.fit_transform(X_test)\n",
    "\n",
    "from sklearn.preprocessing import StandardScaler\n",
    "scaler = StandardScaler()\n",
    "X_train = scaler.fit_transform(X_train)\n",
    "X_test = scaler.fit_transform(X_test)"
   ]
  },
  {
   "cell_type": "markdown",
   "metadata": {},
   "source": [
    "# 2\n",
    "Compute and store the [PCA transformation](https://scikit-learn.org/stable/modules/generated/sklearn.decomposition.PCA.html) of the scaled training set predictors using the maximum number of principal components. How many PC's should be retained to account for 80% of the variance in these predictors? Justify your answer."
   ]
  },
  {
   "cell_type": "code",
   "execution_count": 2,
   "metadata": {},
   "outputs": [
    {
     "name": "stdout",
     "output_type": "stream",
     "text": [
      "[0.36303538 0.50314856 0.61349553 0.68189465 0.72949471 0.77380728\n",
      " 0.81365197 0.84427438 0.86896358 0.88877122]\n"
     ]
    }
   ],
   "source": [
    "from sklearn.decomposition import PCA\n",
    "pca = PCA(n_components=min(X_train.shape))\n",
    "pca.fit(X_train)\n",
    "X_train_proj = pca.transform(X_train)\n",
    "\n",
    "import numpy as np\n",
    "print(np.cumsum(pca.explained_variance_ratio_)[:10])"
   ]
  },
  {
   "cell_type": "markdown",
   "metadata": {},
   "source": [
    "### Answer:\n",
    "Based on the above, seven."
   ]
  },
  {
   "cell_type": "markdown",
   "metadata": {},
   "source": [
    "# 3\n",
    "Fit linear models to the training set with the PCA-transformed predictors using PC's equal to 5, 10, 15, 20, etc. Make a plot showing the training and test set [MSEs](https://scikit-learn.org/stable/modules/generated/sklearn.metrics.mean_squared_error.html) of the models as a function of number of PC's. What can be observed?"
   ]
  },
  {
   "cell_type": "code",
   "execution_count": 6,
   "metadata": {},
   "outputs": [
    {
     "data": {
      "image/png": "[encoded data removed]",
      "text/plain": [
       "<Figure size 432x288 with 1 Axes>"
      ]
     },
     "metadata": {
      "needs_background": "light"
     },
     "output_type": "display_data"
    }
   ],
   "source": [
    "from sklearn.metrics import mean_squared_error\n",
    "from sklearn.linear_model import LinearRegression\n",
    "import numpy as np\n",
    "n_components = np.arange(5, 200, 5)\n",
    "mse_train = []\n",
    "mse_test = []\n",
    "for n in n_components:\n",
    "    pca = PCA(n_components=n) \n",
    "    pca_train = pca.fit_transform(X_train)\n",
    "    pca_test = pca.transform(X_test)\n",
    "    reg_pca = LinearRegression().fit(pca_train, y_train)\n",
    "    mse_train.append(mean_squared_error(y_train, reg_pca.predict(pca_train)))\n",
    "    mse_test.append(mean_squared_error(y_test, reg_pca.predict(pca_test)))\n",
    "\n",
    "import matplotlib.pyplot as plt\n",
    "plt.plot(n_components, mse_train, color = \"g\", label = 'Training MSE')\n",
    "plt.plot(n_components, mse_test, color = \"r\", label = 'Teste MSE')\n",
    "plt.xlabel('PCs')\n",
    "plt.ylabel('MSE')\n",
    "plt.legend()\n",
    "plt.show()"
   ]
  },
  {
   "cell_type": "markdown",
   "metadata": {},
   "source": [
    "### Answer:\n",
    "As the number of PC's increases, the training MSE decreases but the test MSE first decreases and then increases."
   ]
  }
 ],
 "metadata": {
  "kernelspec": {
   "display_name": "Python 3 (ipykernel)",
   "language": "python",
   "name": "python3"
  },
  "language_info": {
   "codemirror_mode": {
    "name": "ipython",
    "version": 3
   },
   "file_extension": ".py",
   "mimetype": "text/x-python",
   "name": "python",
   "nbconvert_exporter": "python",
   "pygments_lexer": "ipython3",
   "version": "3.9.7"
  }
 },
 "nbformat": 4,
 "nbformat_minor": 4
}
