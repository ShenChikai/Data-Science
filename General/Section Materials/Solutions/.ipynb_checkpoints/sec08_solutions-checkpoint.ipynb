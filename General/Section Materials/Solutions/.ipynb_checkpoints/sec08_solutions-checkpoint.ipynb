{
 "cells": [
  {
   "cell_type": "markdown",
   "id": "9ba6d35e",
   "metadata": {},
   "source": [
    "# Section 08"
   ]
  },
  {
   "cell_type": "code",
   "execution_count": 1,
   "id": "d6710fb4",
   "metadata": {},
   "outputs": [],
   "source": [
    "import numpy as np\n",
    "import scipy.stats as stat\n",
    "import matplotlib.pyplot as plt\n",
    "import pandas as pd"
   ]
  },
  {
   "cell_type": "code",
   "execution_count": 2,
   "id": "151d90fd",
   "metadata": {},
   "outputs": [],
   "source": [
    "import warnings\n",
    "warnings.filterwarnings(\"ignore\")"
   ]
  },
  {
   "cell_type": "code",
   "execution_count": 3,
   "id": "7730a4ce",
   "metadata": {},
   "outputs": [],
   "source": [
    "titanic = pd.read_csv(\"titanic.csv\")\n",
    "titanic['Embarked'].fillna(\"S\", inplace=True)\n",
    "med_age = int(titanic['Age'].mean())\n",
    "titanic['Age'].fillna(med_age, inplace=True)\n",
    "titanic['Sex'] = titanic['Sex'].map( {'female': 0, 'male': 1} ).astype(int)\n",
    "titanic['Embarked'] = titanic['Embarked'].map( {'S': 1, 'C': 2, 'Q': 3} ).astype(int)"
   ]
  },
  {
   "cell_type": "markdown",
   "id": "b1ba36e1",
   "metadata": {},
   "source": [
    "###  1.1 Set up"
   ]
  },
  {
   "cell_type": "code",
   "execution_count": 4,
   "id": "8f1d8364",
   "metadata": {},
   "outputs": [],
   "source": [
    "columns = ['Pclass', 'Sex','Embarked','SibSp', 'Parch','Age','Fare','Survived']\n",
    "titanic = titanic[columns]\n",
    "from sklearn.model_selection import train_test_split\n",
    "\n",
    "# Test/train split.\n",
    "X_titan = titanic.drop('Survived', axis = 1)\n",
    "y_titan = titanic[['Survived']]\n",
    "X_titan_train, X_titan_test, y_titan_train, y_titan_test =\\\n",
    "train_test_split(X_titan, y_titan, test_size=1/4, random_state=42)"
   ]
  },
  {
   "cell_type": "markdown",
   "id": "c18c364d",
   "metadata": {},
   "source": [
    "### 1.2  Model Fit"
   ]
  },
  {
   "cell_type": "code",
   "execution_count": 5,
   "id": "1b553c14",
   "metadata": {},
   "outputs": [
    {
     "name": "stdout",
     "output_type": "stream",
     "text": [
      "The test accuracy is 0.771300\n"
     ]
    }
   ],
   "source": [
    "# Fit random forest classifier\n",
    "from sklearn.ensemble import RandomForestClassifier\n",
    "from sklearn.metrics import accuracy_score\n",
    "clf = RandomForestClassifier(n_estimators=55,max_depth=2)\n",
    "z = clf.fit(X_titan_train,y_titan_train).predict(X_titan_test)\n",
    "\n",
    "##compute the test accuracy\n",
    "acc_random_forest_test = accuracy_score(z,y_titan_test)\n",
    "print(\"The test accuracy is %.6f\" % acc_random_forest_test)"
   ]
  },
  {
   "cell_type": "markdown",
   "id": "a358a333",
   "metadata": {},
   "source": [
    "### 1.3 Model Improvement"
   ]
  },
  {
   "cell_type": "code",
   "execution_count": 6,
   "id": "93f19fcd",
   "metadata": {},
   "outputs": [
    {
     "name": "stdout",
     "output_type": "stream",
     "text": [
      "Best prediction accuracy:  0.8161434977578476\n",
      "n_estimators :  71\n"
     ]
    },
    {
     "data": {
      "image/png": "[encoded data removed]",
      "text/plain": [
       "<Figure size 432x288 with 1 Axes>"
      ]
     },
     "metadata": {
      "needs_background": "light"
     },
     "output_type": "display_data"
    }
   ],
   "source": [
    "import numpy as np\n",
    "import matplotlib.pyplot as plt\n",
    "from sklearn.ensemble import RandomForestClassifier\n",
    "\n",
    "rf_arru_lst_test = []\n",
    "n_estimators_lst = np.arange(1,150,10)\n",
    "\n",
    "for k in n_estimators_lst:\n",
    "    # Fit random forest.\n",
    "    rf = RandomForestClassifier(max_depth=3, n_estimators=k, random_state=42)\n",
    "    rf.fit(X_titan_train, y_titan_train.values.ravel())\n",
    "    # Get accuracies.\n",
    "    rf_y_titan_pred_test = rf.predict(X_titan_test)\n",
    "    acc_random_forest_test = accuracy_score(rf_y_titan_pred_test,y_titan_test)\n",
    "    rf_arru_lst_test.append(acc_random_forest_test)\n",
    "    \n",
    "print(\"Best prediction accuracy: \", max(rf_arru_lst_test))\n",
    "print(\"n_estimators : \", n_estimators_lst[rf_arru_lst_test.index(max(rf_arru_lst_test))])\n",
    "\n",
    "plt.plot(n_estimators_lst, rf_arru_lst_test, label = \"Test\")\n",
    "plt.xlabel('n_estimators')\n",
    "plt.ylabel('Accuracy')\n",
    "plt.title('n_estimators vs. Accuracy')\n",
    "plt.legend()\n",
    "plt.show()"
   ]
  },
  {
   "cell_type": "markdown",
   "id": "b03fe91d",
   "metadata": {},
   "source": [
    "### 2.1 Model Fit"
   ]
  },
  {
   "cell_type": "code",
   "execution_count": 7,
   "id": "4dd9b605",
   "metadata": {},
   "outputs": [
    {
     "name": "stdout",
     "output_type": "stream",
     "text": [
      "The test accuracy is 0.798206\n"
     ]
    }
   ],
   "source": [
    "from sklearn.linear_model import LogisticRegression\n",
    "logreg = LogisticRegression().fit(X_titan_train,y_titan_train).predict(X_titan_test)\n",
    "\n",
    "##compute the test accuracy\n",
    "acc_logistic_test = accuracy_score(logreg,y_titan_test)\n",
    "print(\"The test accuracy is %.6f\" % acc_logistic_test)"
   ]
  },
  {
   "cell_type": "markdown",
   "id": "4a785cd6",
   "metadata": {},
   "source": [
    "### 2.2  GridSearchCV on Logistic Regression"
   ]
  },
  {
   "cell_type": "code",
   "execution_count": 8,
   "id": "f493a7a7",
   "metadata": {},
   "outputs": [
    {
     "name": "stdout",
     "output_type": "stream",
     "text": [
      "Best parameters:  {'C': 0.10001}\n",
      "Score:  0.7992930086410055\n"
     ]
    }
   ],
   "source": [
    "from sklearn.model_selection import GridSearchCV\n",
    "from sklearn.model_selection import RepeatedStratifiedKFold\n",
    "\n",
    "# Create the default model.\n",
    "logreg2 = LogisticRegression()\n",
    "\n",
    "# Grid of parameters over which to optimize.\n",
    "grid = {'C': np.arange(1e-5, 5.5, 0.1)}\n",
    "\n",
    "# Search the grid.\n",
    "gridsearch = GridSearchCV(estimator=logreg2, param_grid=grid, cv=5)\n",
    "grid_result = gridsearch.fit(X_titan_train, y_titan_train)\n",
    "\n",
    "# Print.\n",
    "print(\"Best parameters: \", grid_result.best_params_)\n",
    "print(\"Score: \", grid_result.best_score_)"
   ]
  }
 ],
 "metadata": {
  "kernelspec": {
   "display_name": "Python 3 (ipykernel)",
   "language": "python",
   "name": "python3"
  },
  "language_info": {
   "codemirror_mode": {
    "name": "ipython",
    "version": 3
   },
   "file_extension": ".py",
   "mimetype": "text/x-python",
   "name": "python",
   "nbconvert_exporter": "python",
   "pygments_lexer": "ipython3",
   "version": "3.9.7"
  }
 },
 "nbformat": 4,
 "nbformat_minor": 5
}
