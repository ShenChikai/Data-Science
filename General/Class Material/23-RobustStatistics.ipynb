{
 "cells": [
  {
   "cell_type": "markdown",
   "metadata": {
    "slideshow": {
     "slide_type": "slide"
    }
   },
   "source": [
    "<hr/>\n",
    "\n",
    "# Introduction to Data Science\n",
    "**Tamás Budavári** - budavari@jhu.edu <br/>\n",
    "\n",
    "- Location, dispersion\n",
    "- Robust statistics, $M$-estimation\n",
    "\n",
    "<hr/>"
   ]
  },
  {
   "cell_type": "markdown",
   "metadata": {
    "slideshow": {
     "slide_type": "slide"
    }
   },
   "source": [
    "<h1><font color=\"darkblue\">Robust Statistics</font></h1>"
   ]
  },
  {
   "cell_type": "markdown",
   "metadata": {},
   "source": [
    "### Datasets\n",
    "\n",
    "- For example, a set of $n$ scalar measurements \n",
    "\n",
    "> $\\displaystyle D = \\big\\{x_i: \\ i=1\\dots{}n\\big\\} $"
   ]
  },
  {
   "cell_type": "markdown",
   "metadata": {},
   "source": [
    "### How to characterize the data?\n",
    "- Location\n",
    "- Dispersion\n",
    "- Shape?"
   ]
  },
  {
   "cell_type": "markdown",
   "metadata": {},
   "source": [
    "### Maximum Likelihood Estimation\n",
    "\n",
    "- MLE looks for the optimal parameter of the likelihood function\n",
    "\n",
    "> Worked well before. Using Gaussian likelihood, the MLE for the location was the (weighted) average of measurements. We also used the sample variance for dispersion.\n",
    "\n",
    "- Problems with outliers when using, e.g., Gaussian likelihood\n",
    "\n",
    "> Just a few outliers can throw around these estimates big time!\n"
   ]
  },
  {
   "cell_type": "markdown",
   "metadata": {},
   "source": [
    "### Location\n",
    "\n",
    "- MLE looks for the parameter to optimize the likelihood function\n",
    "\n",
    ">$\\displaystyle L(\\mu) = p(D \\lvert \\mu) = \\prod_{i=1}^n \\ell_{\\!i}(\\mu)$\n",
    ">\n",
    "> with $\\quad\\ell_{\\!i}(\\mu) = f_0(x_i-\\mu)$\n",
    "> \n",
    ">$\\displaystyle \\hat{\\mu} = \\arg \\max_{\\mu} \\prod_i\\,f_0(x_i-\\mu)$\n",
    "\n",
    "- Very general but for a special family of functions"
   ]
  },
  {
   "cell_type": "markdown",
   "metadata": {},
   "source": [
    "### How to solve it?\n",
    "\n",
    "- Solve it as before: take its log and differentiate\n",
    "\n",
    ">$\\displaystyle \\hat{\\mu} = \\arg \\min_{\\mu} \\sum_{i=1}^n \\rho(x_i-\\mu)$\n",
    ">\n",
    "> where $\\quad\\rho = -\\log f_0$\n",
    "\n",
    "- At the minimum the derivative vanishes\n",
    "\n",
    ">$\\displaystyle \\sum_{i=1}^n \\rho'(x_i-\\hat{\\mu})=0$\n",
    "\n",
    "- And that's it! Almost..."
   ]
  },
  {
   "cell_type": "markdown",
   "metadata": {},
   "source": [
    "### What $\\rho$?\n",
    "\n",
    "- For Gaussian likelihood\n",
    "\n",
    ">$\\displaystyle \\rho(t) = \\frac{t^2}{2}$\n",
    ">\n",
    "> and we have\n",
    ">\n",
    ">$\\displaystyle \\sum_{i=1}^n (x_i-\\hat{\\mu})=0$\n",
    "\n",
    "- So $\\hat{\\mu}$ is the **mean** (as before)\n",
    "\n",
    "> What if $\\rho(t)=t^2$ instead?"
   ]
  },
  {
   "cell_type": "markdown",
   "metadata": {},
   "source": [
    "### Robust $\\rho$-function\n",
    "\n",
    "- Less sensitive to outliers, e.g.,\n",
    "\n",
    ">$\\rho(t) = \\lvert\\,t\\,\\rvert$\n",
    ">\n",
    "> and we have\n",
    ">\n",
    ">$\\displaystyle \\sum_{i=1}^n \\textrm{sgn}(x_i-\\hat{\\mu})=0$\n",
    "\n",
    "- So $\\hat{\\mu}$ is the **median** \n"
   ]
  },
  {
   "cell_type": "markdown",
   "metadata": {},
   "source": [
    "### Different $\\rho$-functions\n",
    "\n",
    "- Many possible functions to choose from, e.g., \n",
    "\n",
    "\n",
    "<img src='https://upload.wikimedia.org/wikipedia/commons/c/c1/RhoFunctions.png' width=400 align=left /> \n",
    "<!-- <img src=\"files/RhoFunctions.png\" width=400 align=left /> --> "
   ]
  },
  {
   "cell_type": "markdown",
   "metadata": {},
   "source": [
    "### The trick\n",
    "\n",
    "- Define a new function $W$ \n",
    "\n",
    ">$\\displaystyle W(t) = \\frac{\\rho'(t)}{t}$\n",
    ">\n",
    "> so we have\n",
    ">\n",
    ">$\\displaystyle \\sum_{i=1}^n W(x_i\\!-\\!\\hat{\\mu})\\,(x_i\\!-\\!\\hat{\\mu})=0$\n",
    "\n",
    "- If we had constant $w_i$ weights\n",
    "\n",
    ">$\\displaystyle \\sum_{i=1}^n w_i\\,(x_i\\!-\\!\\hat{\\mu})=0$\n",
    ">\n",
    "> the solution would be the weighted average\n",
    ">\n",
    ">$\\displaystyle \\hat{\\mu} = \\frac{\\sum w_ix_i}{\\sum w_i}$\n"
   ]
  },
  {
   "cell_type": "markdown",
   "metadata": {},
   "source": [
    "### Iterative method\n",
    "\n",
    "- Intuitive and efficient\n",
    "\n",
    ">1. Obtain initial estimate of $\\hat{\\mu}$, e.g., median\n",
    ">2. Assign $w_i=W(x_i\\!-\\!\\hat{\\mu})$ weights to the measurements\n",
    ">3. Calculate the weighted average\n",
    ">4. Repeat steps 2 and 3 until convergence\n",
    "\n",
    "- Very fast convergence in practice"
   ]
  },
  {
   "cell_type": "markdown",
   "metadata": {},
   "source": [
    "<img src='files/robust.png' width=450 align=left>\n",
    "<!-- href=\"https://egret.psychol.cam.ac.uk/statistics/local_copies_of_sources_Cardinal_and_Aitken_ANOVA/A_Brief_Overview_of_Robust_Statistics.htm\" -->"
   ]
  },
  {
   "cell_type": "code",
   "execution_count": 1,
   "metadata": {},
   "outputs": [
    {
     "name": "stdout",
     "output_type": "stream",
     "text": [
      "Populating the interactive namespace from numpy and matplotlib\n"
     ]
    },
    {
     "data": {
      "image/png": "[encoded data removed]",
      "text/plain": [
       "<Figure size 432x288 with 1 Axes>"
      ]
     },
     "metadata": {
      "needs_background": "light"
     },
     "output_type": "display_data"
    }
   ],
   "source": [
    "def Wc(t,c=1): # Cauchy\n",
    "    return 1 / (1 + np.square(t/c))\n",
    "\n",
    "def Wh(t,k=1): # Huber\n",
    "    w = np.ones_like(t)\n",
    "    abst = np.abs(t)\n",
    "    i = (abst > k)\n",
    "    w[i] = k / abst[i]\n",
    "    return w\n",
    "\n",
    "%pylab inline\n",
    "t = np.linspace(-3,3,200); ylim(0, 1.1);\n",
    "[plot(t,w) for w in [Wc(t), Wh(t), Wh(t,0.5)]];"
   ]
  },
  {
   "cell_type": "code",
   "execution_count": 2,
   "metadata": {},
   "outputs": [
    {
     "data": {
      "text/plain": [
       "(1.8911863410757943, -0.10991278679212746)"
      ]
     },
     "execution_count": 2,
     "metadata": {},
     "output_type": "execute_result"
    }
   ],
   "source": [
    "np.random.seed(42)\n",
    "x = np.random.randn(100,1)\n",
    "x[0] = 200 # outlier\n",
    "x.mean(), x[1:].mean()"
   ]
  },
  {
   "cell_type": "code",
   "execution_count": 3,
   "metadata": {},
   "outputs": [
    {
     "name": "stdout",
     "output_type": "stream",
     "text": [
      "[[2.54789391e-05 1.95363252e-01 3.92728740e-01]]\n",
      "[[2.51313636e-05 6.93908140e-01 9.85384110e-01]]\n",
      "[[2.50406264e-05 9.15873333e-01 8.10917106e-01]]\n",
      "[[2.50028007e-05 9.77427536e-01 7.13297811e-01]]\n",
      "[[2.49867618e-05 9.92351907e-01 6.72299766e-01]]\n",
      "[[2.49799665e-05 9.96343371e-01 6.55237403e-01]]\n",
      "[[2.49770931e-05 9.97597656e-01 6.48091352e-01]]\n",
      "[[2.49758796e-05 9.98049158e-01 6.45086280e-01]]\n",
      "[[2.49753673e-05 9.98225747e-01 6.43820136e-01]]\n",
      "[[2.49751511e-05 9.98297776e-01 6.43286210e-01]]\n"
     ]
    },
    {
     "data": {
      "text/plain": [
       "-0.09697112354665934"
      ]
     },
     "execution_count": 3,
     "metadata": {},
     "output_type": "execute_result"
    },
    {
     "data": {
      "image/png": "[encoded data removed]",
      "text/plain": [
       "<Figure size 432x288 with 1 Axes>"
      ]
     },
     "metadata": {
      "needs_background": "light"
     },
     "output_type": "display_data"
    }
   ],
   "source": [
    "# iterate for a robust location\n",
    "mu, w = [], np.ones_like(x)\n",
    "\n",
    "for _ in range(10):\n",
    "    m = sum(w*x) / sum(w)\n",
    "    mu.append(m) # save for plotting\n",
    "    w = Wc(x-m)\n",
    "    print (w[:3].T)\n",
    "\n",
    "plot(mu,'ko-'); \n",
    "plot(x[1:].mean()*ones_like(mu), 'b-', alpha=0.5); \n",
    "ylim(-0.2,2.2)\n",
    "m"
   ]
  },
  {
   "cell_type": "markdown",
   "metadata": {},
   "source": [
    "### Dispersion\n",
    "\n",
    "- MLE looks for the parameter for the optimial likelihood function\n",
    "\n",
    ">$\\displaystyle L(\\sigma) = p(D \\lvert \\sigma) = \\prod_{i=1}^n \\ell_{\\!i}(\\sigma)$\n",
    ">\n",
    "> with $\\displaystyle\\quad\\ell_{\\!i}(\\sigma) = \\frac{1}{\\sigma}\\ f_0\\!\\left(\\frac{x_i}{\\sigma}\\right)$\n",
    ">\n",
    ">$\\displaystyle \\hat{\\sigma} = \\arg \\max_{\\sigma} \\frac{1}{\\sigma^n}\\prod_i\\ f_0\\!\\left(\\frac{x_i}{\\sigma}\\right)$\n",
    "\n",
    "- Very general but for \"scale\" family of functions"
   ]
  },
  {
   "cell_type": "markdown",
   "metadata": {},
   "source": [
    "### Influence and $\\rho$ functions\n",
    "\n",
    "- Influence function\n",
    "\n",
    ">$\\displaystyle \\psi = -f_0'\\big/f_0$\n",
    "\n",
    "- The $\\rho$-function\n",
    "\n",
    ">$\\displaystyle \\rho(t) = t\\, \\psi(t)$\n",
    "\n"
   ]
  },
  {
   "cell_type": "markdown",
   "metadata": {},
   "source": [
    "### Optimum\n",
    "\n",
    "- Derivative vanishes at optimal $\\hat{\\sigma}$\n",
    "\n",
    ">$\\displaystyle \\frac{1}{n} \\sum_{i=1}^n \\rho\\left(\\frac{x_i}{\\hat{\\sigma}}\\right) = 1$\n",
    "\n",
    "- Often $\\rho$ is normalized s.t. it tends to 1 as the argument goes to $\\infty$\n",
    "\n",
    "> Scaling is accommodated by new parameter $\\delta$\n",
    ">\n",
    ">$\\displaystyle \\frac{1}{n} \\sum_{i=1}^n \\rho\\left(\\frac{x_i}{\\hat{\\sigma}}\\right) = \\delta$\n",
    ">\n",
    "> For example, $\\delta=1/2\\ $ is often used "
   ]
  },
  {
   "cell_type": "markdown",
   "metadata": {},
   "source": [
    "### What $\\rho$?\n",
    "\n",
    "- For Gaussian likelihood\n",
    "\n",
    "\n",
    ">$\\displaystyle f_0(t) = \\beta\\, e^{-t^2/2} \\quad$ \n",
    "and\n",
    ">\n",
    ">$\\displaystyle f_0'(t) = -t \\ \\beta\\, e^{-t^2/2}$ \n",
    ">\n",
    "> hence\n",
    ">\n",
    ">$\\psi(t) = t\\quad$ and $\\quad\\rho(t)=t^2$ \n",
    ">\n",
    "> and we have\n",
    ">\n",
    ">$\\displaystyle \\frac{1}{n} \\sum_{i=1}^n \\left(\\frac{x_i}{\\hat{\\sigma}}\\right)^2 = 1$\n",
    "\n",
    "- So $\\hat{\\sigma}$ is the **RMS** (as before)\n",
    "\n",
    ">$\\displaystyle \\hat{\\sigma}^2 = \\frac{1}{n} \\sum_{i=1}^n x_i^2 $\n"
   ]
  },
  {
   "cell_type": "markdown",
   "metadata": {},
   "source": [
    "### The Weight\n",
    "\n",
    "- Define a new function $W$ \n",
    "\n",
    ">$ W(t) = \\left\\{ \\begin{array}{ll}\n",
    "         \\rho(t) \\big/ t^2 & \\mbox{if $t\\neq{}0$}\\\\\n",
    "         \\rho''(0) & \\mbox{if $t=0$}\\end{array} \\right.  $\n",
    "> \n",
    "> so we have\n",
    ">\n",
    ">$\\displaystyle \\hat{\\sigma}^2 = \\frac{1}{n\\delta} \\sum_{i=1}^n W\\!\\left(\\frac{x_i}{\\hat{\\sigma}}\\right)\\,x_i^2$\n",
    ">\n",
    "> where $\\delta$ is the parameter we introduced earlier\n",
    "\n",
    "- Play the same iterative trick"
   ]
  },
  {
   "cell_type": "code",
   "execution_count": 4,
   "metadata": {},
   "outputs": [
    {
     "data": {
      "image/png": "[encoded data removed]",
      "text/plain": [
       "<Figure size 432x288 with 1 Axes>"
      ]
     },
     "metadata": {
      "needs_background": "light"
     },
     "output_type": "display_data"
    }
   ],
   "source": [
    "def rho(t,c=1.0):\n",
    "    return c*c * 0.5 * np.log(1 + np.square(t/c))\n",
    "\n",
    "def W(t,c=1.0):\n",
    "    return rho(t,c) / np.square(t)\n",
    "\n",
    "t = np.linspace(-6,6,300); \n",
    "plot(t,W(t)); ylim(0,0.6);"
   ]
  },
  {
   "cell_type": "code",
   "execution_count": 5,
   "metadata": {},
   "outputs": [
    {
     "data": {
      "text/plain": [
       "(20.02061035643945, 0.9127818753073593)"
      ]
     },
     "execution_count": 5,
     "metadata": {},
     "output_type": "execute_result"
    }
   ],
   "source": [
    "naive, cheat = np.sqrt(np.square(x).mean()), np.sqrt(np.square(x[1:]).mean())\n",
    "naive, cheat"
   ]
  },
  {
   "cell_type": "code",
   "execution_count": 6,
   "metadata": {},
   "outputs": [
    {
     "data": {
      "text/plain": [
       "(20.02061035643945, 0.9578626069648577)"
      ]
     },
     "execution_count": 6,
     "metadata": {},
     "output_type": "execute_result"
    },
    {
     "data": {
      "image/png": "[encoded data removed]",
      "text/plain": [
       "<Figure size 432x288 with 1 Axes>"
      ]
     },
     "metadata": {
      "needs_background": "light"
     },
     "output_type": "display_data"
    }
   ],
   "source": [
    "scale, delta = [np.sqrt(np.square(x).mean())], 0.3\n",
    "for _ in range(10):\n",
    "    w = W(x/scale[-1])\n",
    "    scale.append(np.sqrt((np.square(x)*w).mean()/delta))\n",
    "plot(scale,'ko-'); \n",
    "plot(cheat*np.ones_like(scale), 'r-', alpha=0.5); \n",
    "scale[0], scale[-1]"
   ]
  },
  {
   "cell_type": "markdown",
   "metadata": {},
   "source": [
    "<!-- img src=\"http://t1.gstatic.com/images?q=tbn:ANd9GcTR6qV3A4eiZFuuDWwHRPZUqhWdmx5-PRlSAuaxbckx6DOMkWTT\" width=200 align=right -->\n",
    "\n",
    "<img src=\"files/maronna.jpg\" width=200 align=right />\n",
    "\n",
    "\n",
    "### New opportunities\n",
    "\n",
    "\n",
    "- Robust regression\n",
    "\n",
    "> Minimize robust $M$-scale of residuals instead of RMS\n",
    "\n",
    "- Robust PCA\n",
    "\n",
    "> Maximize robust $M$-scale (squared) instead of variance (Maronna 2005)"
   ]
  }
 ],
 "metadata": {
  "anaconda-cloud": {},
  "kernelspec": {
   "display_name": "Python 3 (ipykernel)",
   "language": "python",
   "name": "python3"
  },
  "language_info": {
   "codemirror_mode": {
    "name": "ipython",
    "version": 3
   },
   "file_extension": ".py",
   "mimetype": "text/x-python",
   "name": "python",
   "nbconvert_exporter": "python",
   "pygments_lexer": "ipython3",
   "version": "3.9.7"
  }
 },
 "nbformat": 4,
 "nbformat_minor": 4
}
