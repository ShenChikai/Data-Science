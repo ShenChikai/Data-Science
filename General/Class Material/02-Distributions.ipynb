{
 "cells": [
  {
   "cell_type": "markdown",
   "metadata": {
    "slideshow": {
     "slide_type": "slide"
    }
   },
   "source": [
    "<hr/>\n",
    "\n",
    "# Introduction to Data Science\n",
    "**Tamás Budavári** - budavari@jhu.edu <br/>\n",
    "\n",
    "- Probability Density Function (PDF)\n",
    "- Cummulative Density Function (CDF)\n",
    "- Moments\n",
    "\n",
    "<hr/>"
   ]
  },
  {
   "cell_type": "markdown",
   "metadata": {},
   "source": [
    "### Probability Density Function\n",
    "- PDF a.k.a. Probability Distribution Density Function\n",
    "- Probabiliy of $x$ being between $a$ and $b$ for any $(a,b)$ is\n",
    "\n",
    "> $\\displaystyle P_{ab} = \\int_a^b p(x)\\,dx$\n",
    "\n",
    "- Always \n",
    "\n",
    "> $\\displaystyle  \\int_{-\\infty}^{\\infty} p(x)\\,dx = 1$\n",
    "\n",
    "\n",
    "- Example 1: uniform distribution on $(a,b)$\n",
    "\n",
    "> $\\displaystyle  U(x;a,b) = \\frac{\\pmb{1}_{ab}(x)}{b\\!-\\!a} $,\n",
    "> where $\\pmb{1}_{ab}(x)$ is 1 between $a$ and $b$, but 0 otherwise\n",
    "\n",
    "- Example 2: Gaussian or normal distribution\n",
    "\n",
    "> $\\displaystyle  G\\left(x;\\mu,\\sigma^2\\right) = \\frac{{1}}{\\sqrt{2\\pi\\sigma^2}}\\ \\exp\\left[{-\\frac{(x\\!-\\!\\mu)^2}{2 \\sigma^2} }\\right]$\n",
    "\n",
    "- Example 3: Log-normal"
   ]
  },
  {
   "cell_type": "markdown",
   "metadata": {},
   "source": [
    "### Gauss on Money!\n",
    "\n",
    "<!--<img src='https://upload.wikimedia.org/wikipedia/commons/thumb/f/fd/DEU-10m-anv.jpg/640px-DEU-10m-anv.jpg' width=400 align=left>-->\n",
    "\n",
    "<img src='files/640px-DEU-10m-anv.jpg' width=400 align=left>"
   ]
  },
  {
   "cell_type": "markdown",
   "metadata": {},
   "source": [
    "- Even the formula\n",
    "\n",
    "<img src='files/10DM.jpg' width=400 align=left>"
   ]
  },
  {
   "cell_type": "markdown",
   "metadata": {},
   "source": [
    "### Cummulative Distribution Function\n",
    "- Integral up to given $x$: prob of being less than $x$\n",
    "\n",
    "> $\\displaystyle \\mathrm{CDF}(x) = \\int_{-\\infty}^{x} p(t)\\,dt$"
   ]
  },
  {
   "cell_type": "code",
   "execution_count": 1,
   "metadata": {},
   "outputs": [
    {
     "name": "stdout",
     "output_type": "stream",
     "text": [
      "Populating the interactive namespace from numpy and matplotlib\n"
     ]
    }
   ],
   "source": [
    "%pylab inline"
   ]
  },
  {
   "cell_type": "code",
   "execution_count": 2,
   "metadata": {},
   "outputs": [
    {
     "data": {
      "image/png": "[encoded data removed]",
      "text/plain": [
       "<Figure size 432x288 with 1 Axes>"
      ]
     },
     "metadata": {
      "needs_background": "light"
     },
     "output_type": "display_data"
    }
   ],
   "source": [
    "from scipy.stats import norm as gaussian\n",
    "x = np.linspace(-6,6,1000) \n",
    "mu, sig = 0, 2\n",
    "plot(x, gaussian.pdf(x,mu,sig));\n",
    "plot(x, gaussian.cdf(x,mu,sig));\n",
    "#xlim(-2,2)"
   ]
  },
  {
   "cell_type": "code",
   "execution_count": 3,
   "metadata": {},
   "outputs": [
    {
     "data": {
      "image/png": "[encoded data removed]",
      "text/plain": [
       "<Figure size 432x288 with 1 Axes>"
      ]
     },
     "metadata": {
      "needs_background": "light"
     },
     "output_type": "display_data"
    }
   ],
   "source": [
    "from scipy.stats import lognorm\n",
    "plot(x, gaussian.pdf(x,0,sig));\n",
    "plot(x, lognorm.pdf(x,sig), color='r');"
   ]
  },
  {
   "cell_type": "markdown",
   "metadata": {},
   "source": [
    "### Characterization of PDFs\n",
    "\n",
    "- Expectation value of $X$\n",
    "\n",
    "> $\\displaystyle \\mu = \\mathbb{E}[X] = \\int_{-\\infty}^{\\infty}\\! x\\ p(x)\\,dx$\n",
    "\n",
    "- Expectation value of any $f(X)$\n",
    "\n",
    "> $\\displaystyle \\mathbb{E}[f(X)] = \\int_{-\\infty}^{\\infty}\\! f(x)\\,p(x)\\,dx$\n",
    "\n",
    "- Moments \n",
    "\n",
    "> $\\displaystyle \\mathbb{E}[X^k]$\n",
    "    \n",
    "- Central moments \n",
    "\n",
    "> $\\displaystyle \\mathbb{E}\\big[(X\\!-\\!\\mu)^k\\big]$\n",
    "\n",
    "- Variance\n",
    "\n",
    "> $\\displaystyle \\mathbb{Var}[X] = \\mathbb{E}\\big[(X\\!-\\!\\mu)^2\\big]$\n",
    "\n",
    "- Standard deviation\n",
    "\n",
    "> $\\displaystyle \\sigma = \\sqrt{\\mathbb{Var}[X]}$\n",
    "\n",
    "- Normalized moments\n",
    "\n",
    "> $\\displaystyle \\mathbb{E}\\left[\\left(\\frac{X\\!-\\!\\mu}{\\sigma}\\right)^k\\right]$\n",
    "\n",
    "- Skewness\n",
    "\n",
    "> 3rd normalized moment ($k$=3)\n",
    "\n",
    "- Kurtosis\n",
    "\n",
    "> 4th normalized moment ($k$=4)\n",
    " \n"
   ]
  },
  {
   "cell_type": "markdown",
   "metadata": {},
   "source": [
    "<img src=\"files/skew_kurt.png\" width=400 align=left>"
   ]
  },
  {
   "cell_type": "code",
   "execution_count": 4,
   "metadata": {},
   "outputs": [
    {
     "data": {
      "text/plain": [
       "(0, 2, array(0.), array(4.), array(0.), array(0.))"
      ]
     },
     "execution_count": 4,
     "metadata": {},
     "output_type": "execute_result"
    }
   ],
   "source": [
    "mean, var, skew, kurt = gaussian.stats(mu, sig, moments='mvsk');\n",
    "mu, sig, mean, var, skew, kurt"
   ]
  },
  {
   "cell_type": "code",
   "execution_count": 5,
   "metadata": {},
   "outputs": [
    {
     "data": {
      "text/plain": [
       "(2,\n",
       " array(7.3890561),\n",
       " array(2926.35983701),\n",
       " array(414.3593433),\n",
       " array(9220556.977307))"
      ]
     },
     "execution_count": 5,
     "metadata": {},
     "output_type": "execute_result"
    }
   ],
   "source": [
    "mean, var, skew, kurt = lognorm.stats(sig, moments='mvsk');\n",
    "sig, mean, var, skew, kurt"
   ]
  },
  {
   "cell_type": "markdown",
   "metadata": {},
   "source": [
    "<h1><font color=\"darkblue\">Python by Examples</font></h1>\n",
    "\n",
    "- tuple list function class for map  lambda import\n",
    "\n",
    "- numpy matplotlib "
   ]
  },
  {
   "cell_type": "code",
   "execution_count": 6,
   "metadata": {},
   "outputs": [
    {
     "name": "stdout",
     "output_type": "stream",
     "text": [
      "100\n"
     ]
    }
   ],
   "source": [
    "# tuple\n",
    "t = (1,2)\n",
    "t = 100, 0.1\n",
    "N, mu = t\n",
    "print (N)"
   ]
  },
  {
   "cell_type": "code",
   "execution_count": 7,
   "metadata": {},
   "outputs": [
    {
     "data": {
      "text/plain": [
       "array([[1., 2., 3., 4., 5.],\n",
       "       [1., 2., 3., 4., 5.]])"
      ]
     },
     "execution_count": 7,
     "metadata": {},
     "output_type": "execute_result"
    }
   ],
   "source": [
    "# list\n",
    "l = [1,2,3,4,5]\n",
    "np.array([l,l], dtype=np.float64)"
   ]
  },
  {
   "cell_type": "code",
   "execution_count": 8,
   "metadata": {},
   "outputs": [
    {
     "name": "stdout",
     "output_type": "stream",
     "text": [
      "9\n"
     ]
    },
    {
     "data": {
      "text/plain": [
       "(4, 4, 8, 16, 9)"
      ]
     },
     "execution_count": 8,
     "metadata": {},
     "output_type": "execute_result"
    }
   ],
   "source": [
    "# function\n",
    "def f(x,k=2):\n",
    "    return x**k\n",
    "\n",
    "f3 = f(3)\n",
    "print (f3)\n",
    "f(2), f(2,2), f(2,3), f(2,k=4), f3"
   ]
  },
  {
   "cell_type": "code",
   "execution_count": 9,
   "metadata": {},
   "outputs": [],
   "source": [
    "import math\n",
    "\n",
    "# object-oriented programming\n",
    "class Robot(object):\n",
    "    \n",
    "    def __init__(self, x=0, y=0, angle=0):\n",
    "        self.x, self.y, self.angle = x, y, angle\n",
    "        self.path = [(x,y)]\n",
    "    \n",
    "    def move(self, l):\n",
    "        self.x += l * math.cos(self.angle)\n",
    "        self.y += l * math.sin(self.angle)\n",
    "        self.path.append((self.x, self.y))\n",
    "        \n",
    "    def left(self, a):\n",
    "        self.angle += a\n",
    "        \n",
    "    def right(self, a):\n",
    "        self.left(-a)\n",
    "        "
   ]
  },
  {
   "cell_type": "code",
   "execution_count": 10,
   "metadata": {},
   "outputs": [
    {
     "data": {
      "text/plain": [
       "[(0, 0), (10.0, 0.0), (10.0, 10.0), (10.707106781186548, 10.707106781186548)]"
      ]
     },
     "execution_count": 10,
     "metadata": {},
     "output_type": "execute_result"
    }
   ],
   "source": [
    "r = Robot()\n",
    "r.move(10)\n",
    "r.left(math.pi/2)\n",
    "r.move(10)\n",
    "r.right(np.pi/4)\n",
    "r.move(1)\n",
    "r.path"
   ]
  },
  {
   "cell_type": "code",
   "execution_count": 11,
   "metadata": {},
   "outputs": [
    {
     "data": {
      "text/plain": [
       "4"
      ]
     },
     "execution_count": 11,
     "metadata": {},
     "output_type": "execute_result"
    }
   ],
   "source": [
    "# lambda expressions\n",
    "g = lambda x: x*x\n",
    "g(2)"
   ]
  },
  {
   "cell_type": "code",
   "execution_count": 12,
   "metadata": {},
   "outputs": [
    {
     "data": {
      "text/plain": [
       "(3.141592653589793, 0.9999996829318346)"
      ]
     },
     "execution_count": 12,
     "metadata": {},
     "output_type": "execute_result"
    }
   ],
   "source": [
    "# using math functions and routines\n",
    "import math\n",
    "\n",
    "math.pi, math.sin(1.57)"
   ]
  },
  {
   "cell_type": "code",
   "execution_count": 13,
   "metadata": {},
   "outputs": [
    {
     "data": {
      "text/plain": [
       "(3.141592653589793,\n",
       " 0.9999996829318346,\n",
       " array([0.00000000e+00, 1.22464680e-16, 9.99999683e-01]))"
      ]
     },
     "execution_count": 13,
     "metadata": {},
     "output_type": "execute_result"
    }
   ],
   "source": [
    "# same using numpy's methods\n",
    "np.pi, np.sin(1.57), np.sin([0,np.pi,1.57])"
   ]
  },
  {
   "cell_type": "code",
   "execution_count": 14,
   "metadata": {},
   "outputs": [
    {
     "data": {
      "text/plain": [
       "array([9.99999683e-01, 1.59265292e-03, 1.22464680e-16])"
      ]
     },
     "execution_count": 14,
     "metadata": {},
     "output_type": "execute_result"
    }
   ],
   "source": [
    "# numpy methods work also on arrays, e.g., elementwise\n",
    "np.sin( [1.57, 3.14, np.pi] ) "
   ]
  },
  {
   "cell_type": "code",
   "execution_count": 15,
   "metadata": {},
   "outputs": [
    {
     "name": "stdout",
     "output_type": "stream",
     "text": [
      "(2, 3)\n",
      "[[1 1]\n",
      " [2 2]\n",
      " [3 3]]\n"
     ]
    }
   ],
   "source": [
    "# arrays: vectors and matrices\n",
    "import numpy as np\n",
    "l = [1,2,3]\n",
    "a = np.array([l,l], dtype=np.int32)\n",
    "print (a.shape)\n",
    "print (a.T)"
   ]
  },
  {
   "cell_type": "code",
   "execution_count": 16,
   "metadata": {},
   "outputs": [
    {
     "data": {
      "text/plain": [
       "[[1, 2, 3], [1, 2, 3]]"
      ]
     },
     "execution_count": 16,
     "metadata": {},
     "output_type": "execute_result"
    }
   ],
   "source": [
    "[l,l]"
   ]
  },
  {
   "cell_type": "code",
   "execution_count": 17,
   "metadata": {},
   "outputs": [
    {
     "data": {
      "text/plain": [
       "array([[ 2,  4,  6],\n",
       "       [ 4,  8, 12],\n",
       "       [ 6, 12, 18]])"
      ]
     },
     "execution_count": 17,
     "metadata": {},
     "output_type": "execute_result"
    }
   ],
   "source": [
    "b = a.T.dot(a)\n",
    "b"
   ]
  },
  {
   "cell_type": "code",
   "execution_count": 18,
   "metadata": {},
   "outputs": [
    {
     "data": {
      "text/plain": [
       "array([[ 2,  4,  6],\n",
       "       [ 4,  8, 12],\n",
       "       [ 6, 12, 18]])"
      ]
     },
     "execution_count": 18,
     "metadata": {},
     "output_type": "execute_result"
    }
   ],
   "source": [
    "a.T @ a"
   ]
  },
  {
   "cell_type": "code",
   "execution_count": 19,
   "metadata": {},
   "outputs": [
    {
     "name": "stdout",
     "output_type": "stream",
     "text": [
      "[[ 2  4  6]\n",
      " [ 4  8 12]\n",
      " [ 6 12 18]]\n"
     ]
    },
    {
     "data": {
      "text/plain": [
       "array([[4],\n",
       "       [8]])"
      ]
     },
     "execution_count": 19,
     "metadata": {},
     "output_type": "execute_result"
    }
   ],
   "source": [
    "# slicing arrays\n",
    "print (b)\n",
    "b[:2,1:2]"
   ]
  },
  {
   "cell_type": "code",
   "execution_count": 20,
   "metadata": {},
   "outputs": [
    {
     "name": "stdout",
     "output_type": "stream",
     "text": [
      "[0.84147098 0.90929743 0.14112001]\n",
      "0.8414709848078965\n",
      "0.9092974268256817\n",
      "0.1411200080598672\n"
     ]
    }
   ],
   "source": [
    "# componentwise operations\n",
    "print (np.sin(l))\n",
    "\n",
    "for s in map(math.sin, l): \n",
    "    print (s)"
   ]
  },
  {
   "cell_type": "code",
   "execution_count": 21,
   "metadata": {},
   "outputs": [
    {
     "data": {
      "text/plain": [
       "[0.8414709848078965, 0.9092974268256817, 0.1411200080598672]"
      ]
     },
     "execution_count": 21,
     "metadata": {},
     "output_type": "execute_result"
    }
   ],
   "source": [
    "[math.sin(x) for x in l]"
   ]
  },
  {
   "cell_type": "code",
   "execution_count": 22,
   "metadata": {},
   "outputs": [
    {
     "data": {
      "image/png": "[encoded data removed]",
      "text/plain": [
       "<Figure size 432x288 with 1 Axes>"
      ]
     },
     "metadata": {
      "needs_background": "light"
     },
     "output_type": "display_data"
    }
   ],
   "source": [
    "plt.plot([1,2,3,4,5],[5,4,5,2,4], 'ro-');\n",
    "plt.savefig('test.png') \n",
    "# change extension to .pdf to have it in that format"
   ]
  },
  {
   "cell_type": "code",
   "execution_count": null,
   "metadata": {},
   "outputs": [],
   "source": []
  }
 ],
 "metadata": {
  "anaconda-cloud": {},
  "kernelspec": {
   "display_name": "Python 3 (ipykernel)",
   "language": "python",
   "name": "python3"
  },
  "language_info": {
   "codemirror_mode": {
    "name": "ipython",
    "version": 3
   },
   "file_extension": ".py",
   "mimetype": "text/x-python",
   "name": "python",
   "nbconvert_exporter": "python",
   "pygments_lexer": "ipython3",
   "version": "3.9.7"
  }
 },
 "nbformat": 4,
 "nbformat_minor": 1
}
