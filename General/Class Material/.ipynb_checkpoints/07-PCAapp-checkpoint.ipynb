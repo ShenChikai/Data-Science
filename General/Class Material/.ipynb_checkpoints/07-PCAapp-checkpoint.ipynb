{
 "cells": [
  {
   "cell_type": "markdown",
   "metadata": {
    "slideshow": {
     "slide_type": "slide"
    }
   },
   "source": [
    "<hr/>\n",
    "\n",
    "# Introduction to Data Science\n",
    "**Tamás Budavári** - budavari@jhu.edu <br/>\n",
    "\n",
    "- Principal Component Analysis recap\n",
    "- PCA in practice: coordinate systems, projections\n",
    "\n",
    "<hr/>"
   ]
  },
  {
   "cell_type": "markdown",
   "metadata": {
    "slideshow": {
     "slide_type": "slide"
    }
   },
   "source": [
    "<h1><font color=\"darkblue\">Principal Component Analysis</font></h1>"
   ]
  },
  {
   "cell_type": "markdown",
   "metadata": {},
   "source": [
    "<!--<img src=\"files/800px-GaussianScatterPCA.png\" width=300 align=left>-->\n",
    "<img src=\"https://upload.wikimedia.org/wikipedia/commons/thumb/f/f5/GaussianScatterPCA.svg/440px-GaussianScatterPCA.svg.png\" width=300 align=\"right\">\n",
    "\n",
    "\n",
    "### What Features?\n",
    "\n",
    "- High-dimensional data\n",
    "- Data transformations\n",
    "- Interesting directions\n",
    "- Linear combinations\n",
    "- Rotated coordinate system"
   ]
  },
  {
   "cell_type": "markdown",
   "metadata": {},
   "source": [
    "### Location & Dispersion\n",
    "\n",
    "- 1-dimensional\n",
    "\n",
    "> For example, mean and variance\n",
    "\n",
    "- $N$-dimensional\n",
    "\n",
    "> E.g., again mean (duh!) and covariance matrix\n",
    "\n",
    "\n"
   ]
  },
  {
   "cell_type": "markdown",
   "metadata": {},
   "source": [
    "### Principal Components\n",
    "\n",
    "- Eigensystem of a covariance matrix is special\n",
    "\n",
    "> $\\displaystyle  C\\,\\boldsymbol{e}_k = \\lambda_k\\,\\boldsymbol{e}_k \\ \\ \\ $ for all $k=1\\dots{}N$ \n",
    "><br/><br/>\n",
    "> where\n",
    "><br/><br/>\n",
    "> $\\displaystyle \\boldsymbol{e}_k^T \\boldsymbol{e}_l = \\delta_{kl} \\ \\ \\ $ for all $k$ and $l$\n",
    "\n",
    "- The 1st principal component \n",
    "\n",
    "> The direction of maximum variance is the eigenvector $\\boldsymbol{e}_1$ \n",
    "> that belongs to the largest eigenvalue $\\lambda_1$\n",
    "> and $\\lambda_1$ is the variance along that direction"
   ]
  },
  {
   "cell_type": "markdown",
   "metadata": {},
   "source": [
    "### Linear Combination\n",
    "\n",
    "- If $X$ is a linear combination of the eigenvectors\n",
    "\n",
    "> $\\displaystyle  X = \\sum_k \\boldsymbol{e}_k \\beta_{k} =  E\\,\\boldsymbol\\beta$ \n",
    "><br/><br/>\n",
    "> with orthonormal $E=[\\boldsymbol{e}_1, ..., \\boldsymbol{e}_N]$ eigenbasis\n",
    "\n",
    "- We get the (random variable) coefficients\n",
    "\n",
    "> $\\displaystyle  \\boldsymbol{\\beta} = E^T\\,X$ \n",
    "><br/><br/>\n",
    "> because $E^T{}E = I$"
   ]
  },
  {
   "cell_type": "markdown",
   "metadata": {},
   "source": [
    "### Coordinate Transformation\n",
    "\n",
    "- New covariance matrix is diagonal and the elements are the eigenvalues of $C$\n",
    "\n",
    "> If $\\beta=E^T X$ and again assuming $\\mathbb{E}[X]=0$ then\n",
    "><br/><br/>\n",
    "> $\\displaystyle \\ \\ \\ \\ \\ \\ \\ \\ \\mathbb{E}[\\beta \\beta^T] = \\mathbb{E}[E^T X\\,X^T E] = E^T C\\,E = \\Lambda$\n",
    "><br/><br/>\n",
    "> where \n",
    "><br/><br/>\n",
    ">$\\displaystyle \\ \\ \\ \\ \\ \\ \\ \\ \\Lambda =  \\left( \\begin{array}{ccc}\n",
    "{\\lambda_1} & 0 & \\cdots & 0\\\\\n",
    "0 & {\\lambda_2} &   & \\vdots\\\\\n",
    "\\vdots &  & \\ddots & 0 \\\\\n",
    "0 & \\cdots & 0 & {\\lambda_N} \\\\\n",
    "\\end{array} \\right)$\n",
    "\n",
    "<!-- -->\n",
    "\n",
    "> Recall $C\\,\\boldsymbol{e}_l = \\lambda_l\\,\\boldsymbol{e}_l$ for all $l$, so the $(k,l)$ element of the new covariance matrix \n",
    "><br/><br/>\n",
    ">$\\displaystyle \\ \\ \\ \\ \\ \\ \\ \\ \\boldsymbol{e}_k^T C\\,\\boldsymbol{e}_l = \\lambda_l\\,\\boldsymbol{e}_k^T  \\boldsymbol{e}_l  = \\lambda_l\\delta_{kl} = \\Lambda_{kl}$"
   ]
  },
  {
   "cell_type": "markdown",
   "metadata": {},
   "source": [
    "### Eigendecomposition \n",
    "\n",
    "- If we multiply with $E$ and $E^T$ from left and right \n",
    "\n",
    "> $ C = E\\,\\Lambda\\,E^T$\n",
    "><br/><br/>\n",
    "> or\n",
    "><br/><br/>\n",
    ">$\\displaystyle C = \\sum_{k=1}^N\\ \\lambda_k\\left(\\boldsymbol{e}_k\\,\\boldsymbol{e}_k^T\\right) $"
   ]
  },
  {
   "cell_type": "markdown",
   "metadata": {},
   "source": [
    "### Largest Eigenvalues\n",
    "\n",
    "- The eigenvectors of largest eigenvalues capture the most variance\n",
    "\n",
    "> If keeping only $K<N$ eigenvectors, the best is to take the ones belonging to the $K$ largest eigenvalues PCs\n",
    "><br/><br/>\n",
    "> $\\displaystyle  C \\approx \\sum_{k=1}^K\\ \\lambda_k\\left(\\boldsymbol{e}_k\\,\\boldsymbol{e}_k^T\\right) =  E_K\\Lambda_KE_K^T$\n",
    "\n"
   ]
  },
  {
   "cell_type": "markdown",
   "metadata": {},
   "source": [
    "### Dimensionality Reduction\n",
    "\n",
    "\n",
    "- A truncated set of eigenvectors $E_K$ defines a transformation that reduces the dimensionality from $N$ to $K$ while preserving the most variance possible\n",
    "\n",
    "> $\\displaystyle  \\beta_K = E_K^T\\, X $\n",
    "><br/><br/>\n",
    "> and\n",
    "><br/><br/>\n",
    "> $\\displaystyle  X_K = E_K \\beta_K = E_K E_K^T\\, X = P_K\\,X $\n",
    "\n",
    "\n"
   ]
  },
  {
   "cell_type": "markdown",
   "metadata": {},
   "source": [
    "### Random Sample from Bivariate Normal \n",
    "\n",
    "- See previous lecture"
   ]
  },
  {
   "cell_type": "code",
   "execution_count": 1,
   "metadata": {},
   "outputs": [
    {
     "name": "stdout",
     "output_type": "stream",
     "text": [
      "Populating the interactive namespace from numpy and matplotlib\n"
     ]
    }
   ],
   "source": [
    "%pylab inline\n",
    "from scipy.stats import norm as gaussian"
   ]
  },
  {
   "cell_type": "code",
   "execution_count": 2,
   "metadata": {},
   "outputs": [
    {
     "data": {
      "image/png": "[encoded data removed]",
      "text/plain": [
       "<Figure size 1008x288 with 3 Axes>"
      ]
     },
     "metadata": {
      "needs_background": "light"
     },
     "output_type": "display_data"
    }
   ],
   "source": [
    "# generate many 2D (column) vectors \n",
    "np.random.seed(42)\n",
    "N = gaussian.rvs(0,1,(2,50))\n",
    "# copy and scale it\n",
    "S = np.copy(N)\n",
    "S[0,:] *= 4  # scale axis 0\n",
    "# rotate it\n",
    "f = +pi/4    # rotate by 45 degrees\n",
    "R = array([[cos(f), -sin(f)],\n",
    "           [sin(f),  cos(f)]]) \n",
    "X = R.dot(S)\n",
    "# shift it\n",
    "X += np.array([[1],\n",
    "               [3]])\n",
    "\n",
    "figure(figsize=(14,4)); #xlim(-10,10); ylim(-10,10);\n",
    "subplot(1,3,1).set_aspect('equal'); xlim(-10,10); ylim(-10,10); title('normal')\n",
    "scatter(N[0,:],N[1,:], marker='o',color='b', s=50, alpha=0.3, edgecolor='none');\n",
    "subplot(1,3,2).set_aspect('equal'); xlim(-10,10); ylim(-10,10); title('scaled')\n",
    "scatter(S[0,:],S[1,:], marker='o',color='b', s=50, alpha=0.3, edgecolor='none');\n",
    "subplot(1,3,3).set_aspect('equal'); xlim(-10,10); ylim(-10,10); title('final')\n",
    "scatter(X[0,:],X[1,:],marker='o',s=50,alpha=0.3,edgecolor='none');"
   ]
  },
  {
   "cell_type": "code",
   "execution_count": 3,
   "metadata": {},
   "outputs": [
    {
     "name": "stdout",
     "output_type": "stream",
     "text": [
      "Average\n",
      " [[0.34969052]\n",
      " [2.37483646]]\n",
      "Covariance\n",
      " [[6.99670167 6.59167706]\n",
      " [6.59167706 7.71554082]]\n"
     ]
    }
   ],
   "source": [
    "# subtract sample mean\n",
    "avg = mean(X, axis=1).reshape(X[:,1].size,1)\n",
    "X -= avg\n",
    "# sample covariance matrix\n",
    "#C = X.dot(X.T) / (X[0,:].size-1) \n",
    "C = X @ X.T / (X.shape[1]-1) \n",
    "print (\"Average\\n\", avg)\n",
    "print (\"Covariance\\n\", C)"
   ]
  },
  {
   "cell_type": "code",
   "execution_count": 4,
   "metadata": {},
   "outputs": [
    {
     "data": {
      "text/plain": [
       "(array([[-0.72610102, -0.68758803],\n",
       "        [ 0.68758803, -0.72610102]]),\n",
       " array([ 0.75465255, 13.95758994]))"
      ]
     },
     "execution_count": 4,
     "metadata": {},
     "output_type": "execute_result"
    }
   ],
   "source": [
    "# eigen decomposition of sample covariance matrix\n",
    "L, E = np.linalg.eig(C)\n",
    "E, L"
   ]
  },
  {
   "cell_type": "code",
   "execution_count": 5,
   "metadata": {},
   "outputs": [
    {
     "data": {
      "text/plain": [
       "(array([[-0.68758803, -0.72610102],\n",
       "        [-0.72610102,  0.68758803]]),\n",
       " array([13.95758994,  0.75465255]))"
      ]
     },
     "execution_count": 5,
     "metadata": {},
     "output_type": "execute_result"
    }
   ],
   "source": [
    "# singular value decomposition of covariance yields the same\n",
    "E, L, E_same = np.linalg.svd(C)\n",
    "E, L"
   ]
  },
  {
   "cell_type": "code",
   "execution_count": 6,
   "metadata": {},
   "outputs": [
    {
     "data": {
      "text/plain": [
       "True"
      ]
     },
     "execution_count": 6,
     "metadata": {},
     "output_type": "execute_result"
    }
   ],
   "source": [
    "np.allclose(E,E_same)"
   ]
  },
  {
   "cell_type": "code",
   "execution_count": 7,
   "metadata": {},
   "outputs": [
    {
     "data": {
      "text/plain": [
       "array([[ 1.00000000e+00, -7.47501799e-18],\n",
       "       [-7.47501799e-18,  1.00000000e+00]])"
      ]
     },
     "execution_count": 7,
     "metadata": {},
     "output_type": "execute_result"
    }
   ],
   "source": [
    "# it's a rotation!\n",
    "E.dot(E.T)"
   ]
  },
  {
   "cell_type": "code",
   "execution_count": 8,
   "metadata": {},
   "outputs": [
    {
     "data": {
      "text/plain": [
       "True"
      ]
     },
     "execution_count": 8,
     "metadata": {},
     "output_type": "execute_result"
    }
   ],
   "source": [
    "# also \n",
    "np.allclose( E.T, np.linalg.inv(E) )"
   ]
  },
  {
   "cell_type": "code",
   "execution_count": 9,
   "metadata": {},
   "outputs": [
    {
     "data": {
      "text/plain": [
       "(array([[-0.68758803, -0.72610102],\n",
       "        [-0.72610102,  0.68758803]]),\n",
       " array([13.95758994,  0.75465255]))"
      ]
     },
     "execution_count": 9,
     "metadata": {},
     "output_type": "execute_result"
    }
   ],
   "source": [
    "# singular value decomposition of data matrix yields also the same\n",
    "U, W, V = np.linalg.svd(X)\n",
    "U, W**2 / (X[0,:].size-1)"
   ]
  },
  {
   "cell_type": "code",
   "execution_count": 10,
   "metadata": {},
   "outputs": [
    {
     "data": {
      "text/plain": [
       "[True, True]"
      ]
     },
     "execution_count": 10,
     "metadata": {},
     "output_type": "execute_result"
    }
   ],
   "source": [
    "# check out the properties of U and V\n",
    "[ np.allclose( U.T @ U, np.eye(U[:,0].size) ), \n",
    "  np.allclose( V.T @ V, np.eye(V[:,0].size) )  ]"
   ]
  },
  {
   "cell_type": "code",
   "execution_count": 11,
   "metadata": {},
   "outputs": [],
   "source": [
    "# principle components from sklearn\n",
    "from sklearn import decomposition"
   ]
  },
  {
   "cell_type": "code",
   "execution_count": 12,
   "metadata": {},
   "outputs": [
    {
     "name": "stdout",
     "output_type": "stream",
     "text": [
      "[[ 0.68758803  0.72610102]\n",
      " [ 0.72610102 -0.68758803]] [13.95758994  0.75465255]\n"
     ]
    }
   ],
   "source": [
    "# object-oriented interface\n",
    "pca = decomposition.PCA(n_components=X[:,0].size)\n",
    "# sklearn uses a different convention\n",
    "pca.fit(X.T) # note the transpose\n",
    "# pca.transform(X.T)\n",
    "print (pca.components_.T, pca.explained_variance_)"
   ]
  },
  {
   "cell_type": "code",
   "execution_count": 23,
   "metadata": {},
   "outputs": [
    {
     "data": {
      "text/plain": [
       "(50, 2)"
      ]
     },
     "execution_count": 23,
     "metadata": {},
     "output_type": "execute_result"
    }
   ],
   "source": [
    "pca.transform(X.T).shape"
   ]
  },
  {
   "cell_type": "code",
   "execution_count": 14,
   "metadata": {},
   "outputs": [
    {
     "name": "stdout",
     "output_type": "stream",
     "text": [
      "[[-0.68758803 -0.72610102]\n",
      " [-0.72610102  0.68758803]] [13.95758994  0.75465255]\n"
     ]
    }
   ],
   "source": [
    "# no more bug in the sklearn code - yeay! \n",
    "print (E, L)"
   ]
  },
  {
   "cell_type": "code",
   "execution_count": 15,
   "metadata": {},
   "outputs": [
    {
     "name": "stdout",
     "output_type": "stream",
     "text": [
      "[[-0.68758803 -0.72610102]\n",
      " [-0.72610102  0.68758803]] [13.67843814  0.7395595 ]\n"
     ]
    }
   ],
   "source": [
    "# use to yield results without bessel correction\n",
    "print (U, W**2 / X[0,:].size)"
   ]
  },
  {
   "cell_type": "code",
   "execution_count": 24,
   "metadata": {},
   "outputs": [
    {
     "name": "stdout",
     "output_type": "stream",
     "text": [
      "(2, 50)\n"
     ]
    },
    {
     "data": {
      "image/png": "[encoded data removed]",
      "text/plain": [
       "<Figure size 360x360 with 1 Axes>"
      ]
     },
     "metadata": {
      "needs_background": "light"
     },
     "output_type": "display_data"
    }
   ],
   "source": [
    "# rotation\n",
    "A = E.T.dot(X);\n",
    "print(A.shape)\n",
    "figure(figsize=(5,5)); xlim(-10,10); ylim(-10,10);\n",
    "scatter(A[0,:],A[1,:],marker='o',s=50,alpha=0.3,edgecolor='none');"
   ]
  },
  {
   "cell_type": "code",
   "execution_count": 17,
   "metadata": {},
   "outputs": [
    {
     "data": {
      "image/png": "[encoded data removed]",
      "text/plain": [
       "<Figure size 360x360 with 1 Axes>"
      ]
     },
     "metadata": {
      "needs_background": "light"
     },
     "output_type": "display_data"
    }
   ],
   "source": [
    "# projected points\n",
    "#P = E[:,:1].dot(E[:,:1].T).dot(X)\n",
    "P = E[:,:1] @ E[:,:1].T @ X\n",
    "\n",
    "figure(figsize=(5,5)); xlim(-10,10); ylim(-10,10);\n",
    "scatter(X[0,:],X[1,:],marker='o',color='b', s=50, alpha=0.3, edgecolor='none');\n",
    "scatter(P[0,:],P[1,:],marker='o',color='r', s=50, alpha=0.3, edgecolor='none');"
   ]
  },
  {
   "cell_type": "markdown",
   "metadata": {},
   "source": [
    "### Whitening\n",
    "- Frequently used to preprocess data, e.g., in signal processing\n",
    "\n",
    ">$ \\displaystyle Z = \\Lambda^{-1/2}\\ E^T\\ X$\n",
    "\n",
    "- **Unhomework:** Verify that its covariance matrix is identity"
   ]
  },
  {
   "cell_type": "code",
   "execution_count": 18,
   "metadata": {},
   "outputs": [
    {
     "data": {
      "image/png": "[encoded data removed]",
      "text/plain": [
       "<Figure size 360x360 with 1 Axes>"
      ]
     },
     "metadata": {
      "needs_background": "light"
     },
     "output_type": "display_data"
    }
   ],
   "source": [
    "# calc and plot whitened coordinates\n",
    "B = diag(1/sqrt(L)).dot(A)\n",
    "figure(figsize=(5,5)); xlim(-5,5); ylim(-5,5);\n",
    "scatter(B[0,:],B[1,:], marker='o',color='b', s=50, alpha=0.3, edgecolor='none');"
   ]
  },
  {
   "cell_type": "code",
   "execution_count": 19,
   "metadata": {},
   "outputs": [
    {
     "data": {
      "image/png": "[encoded data removed]",
      "text/plain": [
       "<Figure size 792x360 with 2 Axes>"
      ]
     },
     "metadata": {
      "needs_background": "light"
     },
     "output_type": "display_data"
    }
   ],
   "source": [
    "# cf. original normal randoms in cell [2]\n",
    "figure(figsize=(11,5)); \n",
    "subplot(1,2,1).set_aspect('equal'); xlim(-5,5); ylim(-5,5); title('whitened')\n",
    "scatter(B[0,:],B[1,:], marker='o',color='b', s=50, alpha=0.3, edgecolor='none');\n",
    "subplot(1,2,2).set_aspect('equal'); xlim(-5,5); ylim(-5,5); title('original')\n",
    "scatter(-N[0,:],N[1,:], marker='o',color='b', s=50, alpha=0.3, edgecolor='none');"
   ]
  },
  {
   "cell_type": "code",
   "execution_count": 20,
   "metadata": {},
   "outputs": [
    {
     "data": {
      "text/plain": [
       "array([[ 1.00000000e+00, -1.26132915e-16],\n",
       "       [-1.26132915e-16,  1.00000000e+00]])"
      ]
     },
     "execution_count": 20,
     "metadata": {},
     "output_type": "execute_result"
    }
   ],
   "source": [
    "# sample covariance matrix is I\n",
    "B @ B.T / (B.shape[1]-1)"
   ]
  }
 ],
 "metadata": {
  "anaconda-cloud": {},
  "kernelspec": {
   "display_name": "Python 3 (ipykernel)",
   "language": "python",
   "name": "python3"
  },
  "language_info": {
   "codemirror_mode": {
    "name": "ipython",
    "version": 3
   },
   "file_extension": ".py",
   "mimetype": "text/x-python",
   "name": "python",
   "nbconvert_exporter": "python",
   "pygments_lexer": "ipython3",
   "version": "3.9.7"
  }
 },
 "nbformat": 4,
 "nbformat_minor": 1
}
