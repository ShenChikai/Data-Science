{
 "cells": [
  {
   "cell_type": "markdown",
   "metadata": {
    "slideshow": {
     "slide_type": "slide"
    }
   },
   "source": [
    "<hr/>\n",
    "\n",
    "#Data Mining [EN.550.436]\n",
    "**Tamás Budavári** - budavari@jhu.edu <br/>\n",
    "**Midterm Exam** - October 27, 2015\n",
    "\n",
    "\n",
    "<hr/>"
   ]
  },
  {
   "cell_type": "markdown",
   "metadata": {
    "slideshow": {
     "slide_type": "slide"
    }
   },
   "source": [
    "<h1><font color=\"darkblue\">Midterm Exam</font></h1>\n",
    "\n",
    "## Rules\n",
    "\n",
    "- The exam is **75 minutes**\n",
    "\n",
    "> You can take the exam anytime during the day. Make sure you have a quiet place before you start. Feel free to use the classroom at the regular time between 9 and 10:15am.\n",
    "\n",
    "> Please mark on your notebook when you started working on the problems and when you finished.\n",
    "\n",
    "> If you are close to the solution of a problem but you run out of time, mark where you are and note the time. Below that mark feel free to continue, if you like. The additional information you provide might help the graders to decide on the value of your solution before the deadline.\n",
    "\n",
    "\n",
    "- Maximum score is **20 points** \n",
    "\n",
    "> Each problem is 10 points with partial points as noted below\n",
    "\n",
    "\n",
    "\n",
    "- Your solution is to be submitted by **5pm on Blackboard**\n",
    "\n",
    "\n",
    "> Explain you solution! Please write a short description and summary after each problem to describe what you wanted to do, how you did it and what the result is\n",
    "\n",
    "- Feel free to use anything but **work alone**!"
   ]
  },
  {
   "cell_type": "markdown",
   "metadata": {},
   "source": [
    "## Problem 1\n",
    "\n",
    "Simone (a.k.a. Sim1) measured the temperature in her (virtual) room for a few days and saved the measurements in the attached [CSV](Midterm-Problem1.csv) file, which contains two columns: time and temperature. \n",
    "\n",
    "The script below implements her analysis of this data. What is she trying to do? Is she cold at night?\n",
    "\n",
    "> 0. Run the analysis (1 pt)\n",
    "> 0. Print and visualize the results (2 pts)\n",
    "> 0. Read, understand and comment the code (4 pts)\n",
    "> 0. Summarize your findings with your own words (3 pts)"
   ]
  },
  {
   "cell_type": "code",
   "execution_count": 5,
   "metadata": {},
   "outputs": [
    {
     "name": "stdout",
     "output_type": "stream",
     "text": [
      "Populating the interactive namespace from numpy and matplotlib\n"
     ]
    }
   ],
   "source": [
    "%pylab inline\n",
    "#import numpy as np\n",
    "#import matplotlib.pyplot as plt\n",
    "\n",
    "data = np.loadtxt('Midterm-Problem1.csv', delimiter=',')\n",
    "hour, temp = data[:,0], data[:,1]\n",
    "#plt.plot(hour,temp, 'bo', alpha=0.3); \n",
    "\n",
    "X = np.zeros( (hour.size,4) );\n",
    "X[:,0] = 1\n",
    "X[:,1] = hour \n",
    "X[:,2] = np.sin(hour * 2*pi/24)\n",
    "X[:,3] = np.cos(hour * 2*pi/24)\n",
    "\n",
    "Xpinv = np.linalg.inv( X.T.dot(X) ).dot(X.T)\n",
    "coeff = Xpinv.dot(temp)\n",
    "#print coeff\n",
    "\n",
    "hGrid = np.linspace(0,100,500)\n",
    "Z = np.ones( (hGrid.size,4) );\n",
    "Z[:,1] = hGrid\n",
    "Z[:,2] = np.sin(hGrid * 2*pi/24) \n",
    "Z[:,3] = np.cos(hGrid * 2*pi/24)\n",
    "tGrid = Z.dot(coeff)\n",
    "\n",
    "#plt.plot(hGrid,tGrid,'r-', alpha=0.6);"
   ]
  }
 ],
 "metadata": {
  "kernelspec": {
   "display_name": "Python 3 (ipykernel)",
   "language": "python",
   "name": "python3"
  },
  "language_info": {
   "codemirror_mode": {
    "name": "ipython",
    "version": 3
   },
   "file_extension": ".py",
   "mimetype": "text/x-python",
   "name": "python",
   "nbconvert_exporter": "python",
   "pygments_lexer": "ipython3",
   "version": "3.8.10"
  }
 },
 "nbformat": 4,
 "nbformat_minor": 1
}
